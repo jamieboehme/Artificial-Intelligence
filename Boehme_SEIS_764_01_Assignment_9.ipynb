{
  "nbformat": 4,
  "nbformat_minor": 0,
  "metadata": {
    "colab": {
      "provenance": [],
      "collapsed_sections": []
    },
    "kernelspec": {
      "name": "python3",
      "display_name": "Python 3"
    },
    "language_info": {
      "name": "python"
    }
  },
  "cells": [
    {
      "cell_type": "markdown",
      "source": [
        "## SEIS 764-01 Assignment 9\n",
        "**Jamie Boehme**"
      ],
      "metadata": {
        "id": "jaPN-cQzBF3i"
      }
    },
    {
      "cell_type": "markdown",
      "source": [
        "Import libraries for processing"
      ],
      "metadata": {
        "id": "bqW3qiGJBHKX"
      }
    },
    {
      "cell_type": "code",
      "source": [
        "import tensorflow as tf\n",
        "from tensorflow.keras.models import Sequential, Model\n",
        "from tensorflow.keras.layers import Dense, Activation, Dropout, Flatten, MaxPooling2D, BatchNormalization\n",
        "from tensorflow.keras.layers import Conv2D\n",
        "from tensorflow.keras.optimizers import SGD\n",
        "from keras.preprocessing.image import ImageDataGenerator\n",
        "from tensorflow.keras import utils\n",
        "import pandas as pd\n",
        "import numpy as np\n",
        "from sklearn import preprocessing\n",
        "from sklearn.model_selection import train_test_split\n",
        "from sklearn.metrics import accuracy_score, classification_report, confusion_matrix, accuracy_score, roc_curve, auc\n",
        "import matplotlib.pyplot as plt"
      ],
      "metadata": {
        "id": "i_NxcYkkBGxo"
      },
      "execution_count": 1,
      "outputs": []
    },
    {
      "cell_type": "markdown",
      "source": [
        "Read data from google colab drive"
      ],
      "metadata": {
        "id": "PlCqaTt2BPqu"
      }
    },
    {
      "cell_type": "code",
      "source": [
        "from google.colab import drive\n",
        "drive.mount('/content/drive')\n",
        "data_path = \"/content/drive/My Drive/Colab Notebooks/CNN_Flowers\""
      ],
      "metadata": {
        "colab": {
          "base_uri": "https://localhost:8080/",
          "height": 0
        },
        "id": "MhxMyDsQDdFi",
        "outputId": "c10468a8-17f2-4a7f-a1d6-141861bace12"
      },
      "execution_count": 2,
      "outputs": [
        {
          "output_type": "stream",
          "name": "stdout",
          "text": [
            "Mounted at /content/drive\n"
          ]
        }
      ]
    },
    {
      "cell_type": "code",
      "source": [
        "batch_size = 10\n",
        "\n",
        "data = ImageDataGenerator(rescale=1. / 255, \n",
        "                          validation_split=0.2)\n",
        "\n",
        "training_data = data.flow_from_directory('/content/drive/My Drive/Colab Notebooks/Iris_Imgs', \n",
        "                                         target_size=(224, 224), shuffle=True, batch_size = batch_size, \n",
        "                                         class_mode='categorical', subset='training')\n",
        "\n",
        "training_data_noshuffle = data.flow_from_directory('/content/drive/My Drive/Colab Notebooks/Iris_Imgs', \n",
        "                                         target_size=(224, 224), shuffle=False, batch_size = batch_size, \n",
        "                                         class_mode='categorical', subset='training')\n",
        "\n",
        "test_data = data.flow_from_directory('/content/drive/My Drive/Colab Notebooks/Iris_Imgs', \n",
        "                                     target_size=(224, 224), batch_size = batch_size, shuffle=False,\n",
        "                                     class_mode='categorical', subset='validation')"
      ],
      "metadata": {
        "colab": {
          "base_uri": "https://localhost:8080/",
          "height": 0
        },
        "id": "Qe0jUCxhBJWn",
        "outputId": "23680088-0ca2-4645-a0fe-f3a6f3ea9777"
      },
      "execution_count": 3,
      "outputs": [
        {
          "output_type": "stream",
          "name": "stdout",
          "text": [
            "Found 120 images belonging to 3 classes.\n",
            "Found 120 images belonging to 3 classes.\n",
            "Found 30 images belonging to 3 classes.\n"
          ]
        }
      ]
    },
    {
      "cell_type": "markdown",
      "source": [
        "Train initial pre-built model"
      ],
      "metadata": {
        "id": "3tqgcnrqH1TH"
      }
    },
    {
      "cell_type": "code",
      "source": [
        "cnn_xfer = tf.keras.applications.VGG16(\n",
        "    include_top = False,\n",
        "    weights = \"imagenet\",\n",
        "    input_shape = (224,224,3)\n",
        ")\n",
        "\n",
        "cnn_xfer.trainable=False #freezing weights"
      ],
      "metadata": {
        "id": "EBn2IVeCGOqw",
        "colab": {
          "base_uri": "https://localhost:8080/",
          "height": 0
        },
        "outputId": "e6701d01-804b-4967-86ff-61f16867053a"
      },
      "execution_count": 4,
      "outputs": [
        {
          "output_type": "stream",
          "name": "stdout",
          "text": [
            "Downloading data from https://storage.googleapis.com/tensorflow/keras-applications/vgg16/vgg16_weights_tf_dim_ordering_tf_kernels_notop.h5\n",
            "58889256/58889256 [==============================] - 0s 0us/step\n"
          ]
        }
      ]
    },
    {
      "cell_type": "markdown",
      "source": [
        "3. Print the configurations of all the layers in the CNN"
      ],
      "metadata": {
        "id": "GauZlDoAyAgy"
      }
    },
    {
      "cell_type": "code",
      "source": [
        "cnn_xfer.summary()"
      ],
      "metadata": {
        "colab": {
          "base_uri": "https://localhost:8080/",
          "height": 0
        },
        "id": "8rDHQcF9k2nB",
        "outputId": "5e24e4ea-72c1-4819-a0c8-e6e205501de1"
      },
      "execution_count": 5,
      "outputs": [
        {
          "output_type": "stream",
          "name": "stdout",
          "text": [
            "Model: \"vgg16\"\n",
            "_________________________________________________________________\n",
            " Layer (type)                Output Shape              Param #   \n",
            "=================================================================\n",
            " input_1 (InputLayer)        [(None, 224, 224, 3)]     0         \n",
            "                                                                 \n",
            " block1_conv1 (Conv2D)       (None, 224, 224, 64)      1792      \n",
            "                                                                 \n",
            " block1_conv2 (Conv2D)       (None, 224, 224, 64)      36928     \n",
            "                                                                 \n",
            " block1_pool (MaxPooling2D)  (None, 112, 112, 64)      0         \n",
            "                                                                 \n",
            " block2_conv1 (Conv2D)       (None, 112, 112, 128)     73856     \n",
            "                                                                 \n",
            " block2_conv2 (Conv2D)       (None, 112, 112, 128)     147584    \n",
            "                                                                 \n",
            " block2_pool (MaxPooling2D)  (None, 56, 56, 128)       0         \n",
            "                                                                 \n",
            " block3_conv1 (Conv2D)       (None, 56, 56, 256)       295168    \n",
            "                                                                 \n",
            " block3_conv2 (Conv2D)       (None, 56, 56, 256)       590080    \n",
            "                                                                 \n",
            " block3_conv3 (Conv2D)       (None, 56, 56, 256)       590080    \n",
            "                                                                 \n",
            " block3_pool (MaxPooling2D)  (None, 28, 28, 256)       0         \n",
            "                                                                 \n",
            " block4_conv1 (Conv2D)       (None, 28, 28, 512)       1180160   \n",
            "                                                                 \n",
            " block4_conv2 (Conv2D)       (None, 28, 28, 512)       2359808   \n",
            "                                                                 \n",
            " block4_conv3 (Conv2D)       (None, 28, 28, 512)       2359808   \n",
            "                                                                 \n",
            " block4_pool (MaxPooling2D)  (None, 14, 14, 512)       0         \n",
            "                                                                 \n",
            " block5_conv1 (Conv2D)       (None, 14, 14, 512)       2359808   \n",
            "                                                                 \n",
            " block5_conv2 (Conv2D)       (None, 14, 14, 512)       2359808   \n",
            "                                                                 \n",
            " block5_conv3 (Conv2D)       (None, 14, 14, 512)       2359808   \n",
            "                                                                 \n",
            " block5_pool (MaxPooling2D)  (None, 7, 7, 512)         0         \n",
            "                                                                 \n",
            "=================================================================\n",
            "Total params: 14,714,688\n",
            "Trainable params: 0\n",
            "Non-trainable params: 14,714,688\n",
            "_________________________________________________________________\n"
          ]
        }
      ]
    },
    {
      "cell_type": "markdown",
      "source": [
        "2. Write a program using Python Keras, MatLab, or any programming language of \n",
        "your choice to classify images into 3 classes (setosa, versicolor, virginica) using any pre-trained CNN listed on slide 7 to 9 "
      ],
      "metadata": {
        "id": "sMTUrAMJyNCv"
      }
    },
    {
      "cell_type": "code",
      "source": [
        "flatten_layer = tf.keras.layers.Flatten()\n",
        "dense_layer_1 = Dense(500, activation='relu')\n",
        "dense_layer_2 = Dense(250, activation='relu')\n",
        "dense_layer_3 = Dense(50, activation='relu')\n",
        "prediction_layer = Dense(3, activation='softmax')\n",
        "\n",
        "\n",
        "model = Sequential([\n",
        "    cnn_xfer,\n",
        "    flatten_layer,\n",
        "    dense_layer_1,\n",
        "    dense_layer_2,\n",
        "    dense_layer_3,\n",
        "    prediction_layer\n",
        "])"
      ],
      "metadata": {
        "id": "_FE-wcPflAAX"
      },
      "execution_count": 6,
      "outputs": []
    },
    {
      "cell_type": "code",
      "source": [
        "model.summary()"
      ],
      "metadata": {
        "colab": {
          "base_uri": "https://localhost:8080/",
          "height": 0
        },
        "id": "4lAiK2aqlRMA",
        "outputId": "6aa2f52e-1584-4f3f-b9e1-854c0b3d5f39"
      },
      "execution_count": 7,
      "outputs": [
        {
          "output_type": "stream",
          "name": "stdout",
          "text": [
            "Model: \"sequential\"\n",
            "_________________________________________________________________\n",
            " Layer (type)                Output Shape              Param #   \n",
            "=================================================================\n",
            " vgg16 (Functional)          (None, 7, 7, 512)         14714688  \n",
            "                                                                 \n",
            " flatten (Flatten)           (None, 25088)             0         \n",
            "                                                                 \n",
            " dense (Dense)               (None, 500)               12544500  \n",
            "                                                                 \n",
            " dense_1 (Dense)             (None, 250)               125250    \n",
            "                                                                 \n",
            " dense_2 (Dense)             (None, 50)                12550     \n",
            "                                                                 \n",
            " dense_3 (Dense)             (None, 3)                 153       \n",
            "                                                                 \n",
            "=================================================================\n",
            "Total params: 27,397,141\n",
            "Trainable params: 12,682,453\n",
            "Non-trainable params: 14,714,688\n",
            "_________________________________________________________________\n"
          ]
        }
      ]
    },
    {
      "cell_type": "code",
      "source": [
        "#opt = tf.keras.optimizers.SGD(learning_rate=0.01)\n",
        "model.compile(loss=tf.keras.losses.categorical_crossentropy, metrics=['accuracy'])"
      ],
      "metadata": {
        "id": "SR-57yzllVyl"
      },
      "execution_count": 8,
      "outputs": []
    },
    {
      "cell_type": "code",
      "source": [
        "model.fit(training_data, batch_size = 10, epochs = 30, validation_data=test_data, shuffle = 1, verbose = 1)"
      ],
      "metadata": {
        "id": "Et35RD2ImL_j"
      },
      "execution_count": null,
      "outputs": []
    },
    {
      "cell_type": "markdown",
      "source": [
        "4. Print the confusion matrix of your classification result, and what is the accuracy of classification result? Below are the results of the **test** data"
      ],
      "metadata": {
        "id": "OATSGBWBw3Wo"
      }
    },
    {
      "cell_type": "code",
      "source": [
        "training_data.reset()\n",
        "test_data.reset()\n",
        "\n",
        "predicted_scores = model.predict(test_data, verbose=1)\n",
        "predicted_labels = predicted_scores.argmax(axis=1) \n",
        "\n",
        "test_labels = test_data.labels\n",
        "\n",
        "acc_score_xfer_cnn = accuracy_score(test_labels, predicted_labels)\n",
        "xfer_cnn_cfm = confusion_matrix(test_labels, predicted_labels)\n",
        "\n",
        "print(\"Accuracy score: \", acc_score_xfer_cnn)\n",
        "print(\"Confusion Matrix: \\n\", xfer_cnn_cfm)"
      ],
      "metadata": {
        "colab": {
          "base_uri": "https://localhost:8080/",
          "height": 0
        },
        "id": "iH7DhrtuHD_q",
        "outputId": "a34a2317-da18-459e-f4a4-65ec29e3bc33"
      },
      "execution_count": 10,
      "outputs": [
        {
          "output_type": "stream",
          "name": "stdout",
          "text": [
            "3/3 [==============================] - 16s 5s/step\n",
            "Accuracy score:  0.9333333333333333\n",
            "Confusion Matrix: \n",
            " [[ 8  2  0]\n",
            " [ 0 10  0]\n",
            " [ 0  0 10]]\n"
          ]
        }
      ]
    },
    {
      "cell_type": "markdown",
      "source": [
        "5. Print the precision, recall, F-score for EACH class. Also, create a ROC curve and measure its AUC for EACH class."
      ],
      "metadata": {
        "id": "1UwCign8xCaS"
      }
    },
    {
      "cell_type": "code",
      "source": [
        "print(\"Classification Matrix: \\n\", classification_report(test_labels, predicted_labels))"
      ],
      "metadata": {
        "colab": {
          "base_uri": "https://localhost:8080/",
          "height": 0
        },
        "id": "JqJpgxPj4aFJ",
        "outputId": "c30e6bc0-bcd1-4ba4-baa2-77e0fc6a839f"
      },
      "execution_count": 11,
      "outputs": [
        {
          "output_type": "stream",
          "name": "stdout",
          "text": [
            "Classification Matrix: \n",
            "               precision    recall  f1-score   support\n",
            "\n",
            "           0       1.00      0.80      0.89        10\n",
            "           1       0.83      1.00      0.91        10\n",
            "           2       1.00      1.00      1.00        10\n",
            "\n",
            "    accuracy                           0.93        30\n",
            "   macro avg       0.94      0.93      0.93        30\n",
            "weighted avg       0.94      0.93      0.93        30\n",
            "\n"
          ]
        }
      ]
    },
    {
      "cell_type": "code",
      "source": [
        "y_pred_keras = predicted_scores\n",
        "from sklearn.preprocessing import label_binarize\n",
        "y_test = label_binarize(test_data.labels, classes=[0,1,2])\n",
        "n_classes = 3\n",
        "\n",
        "fpr = dict()\n",
        "tpr = dict()\n",
        "roc_auc = dict()\n",
        "\n",
        "for cur_class in range(n_classes):\n",
        "    fpr[cur_class], tpr[cur_class], _ = roc_curve(y_test[:, cur_class], y_pred_keras[:, cur_class ])  #, pos_label= 1)\n",
        "    roc_auc[cur_class] = auc(fpr[cur_class], tpr[cur_class])\n",
        "    print(roc_auc[cur_class])\n",
        "    plt.plot(fpr[cur_class],tpr[cur_class], marker='.', label='Class_0', color='b')"
      ],
      "metadata": {
        "colab": {
          "base_uri": "https://localhost:8080/",
          "height": 317
        },
        "id": "Gq8GmJ57SRQo",
        "outputId": "ba6bf27b-72db-4dfb-df7b-3a87b3fe794a"
      },
      "execution_count": 12,
      "outputs": [
        {
          "output_type": "stream",
          "name": "stdout",
          "text": [
            "1.0\n",
            "0.99\n",
            "1.0\n"
          ]
        },
        {
          "output_type": "display_data",
          "data": {
            "text/plain": [
              "<Figure size 432x288 with 1 Axes>"
            ],
            "image/png": "[encoded data removed]"
          },
          "metadata": {
            "needs_background": "light"
          }
        }
      ]
    }
  ]
}