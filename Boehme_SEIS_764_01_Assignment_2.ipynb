{
  "nbformat": 4,
  "nbformat_minor": 0,
  "metadata": {
    "colab": {
      "provenance": [],
      "collapsed_sections": []
    },
    "kernelspec": {
      "name": "python3",
      "display_name": "Python 3"
    },
    "language_info": {
      "name": "python"
    }
  },
  "cells": [
    {
      "cell_type": "markdown",
      "source": [
        "## SEIS 764-01 Assignment 2\n",
        "**Jamie Boehme**"
      ],
      "metadata": {
        "id": "QsnOA-_wyBJR"
      }
    },
    {
      "cell_type": "markdown",
      "source": [
        "Import libraries for processing."
      ],
      "metadata": {
        "id": "-mhPpWR8yPXi"
      }
    },
    {
      "cell_type": "code",
      "execution_count": 1,
      "metadata": {
        "id": "mplf9Sv6ZFl6"
      },
      "outputs": [],
      "source": [
        "from tensorflow.keras.models import Sequential\n",
        "from tensorflow.keras.layers import Dense, Activation\n",
        "from tensorflow.keras.utils import to_categorical\n",
        "from tensorflow.keras.optimizers import Adam\n",
        "from tensorflow.keras import utils\n",
        "import pandas as pd\n",
        "import numpy as np\n",
        "from sklearn import preprocessing\n",
        "from sklearn.model_selection import train_test_split\n",
        "from sklearn.metrics import accuracy_score\n",
        "from sklearn.metrics import classification_report\n",
        "import matplotlib.pyplot as plt"
      ]
    },
    {
      "cell_type": "markdown",
      "source": [
        "Read in data from Github repo"
      ],
      "metadata": {
        "id": "rtfWJbJGyXVq"
      }
    },
    {
      "cell_type": "code",
      "source": [
        "url = 'https://raw.githubusercontent.com/jamieboehme/Artificial-Intelligence/main/CellDNA.csv'\n",
        "df = pd.read_csv(url, header=None)"
      ],
      "metadata": {
        "id": "nrFo1eWKZT6z"
      },
      "execution_count": 2,
      "outputs": []
    },
    {
      "cell_type": "markdown",
      "source": [
        "Do some quick exploration of the dataset"
      ],
      "metadata": {
        "id": "BL2PQWMyydnj"
      }
    },
    {
      "cell_type": "code",
      "source": [
        "df"
      ],
      "metadata": {
        "colab": {
          "base_uri": "https://localhost:8080/",
          "height": 424
        },
        "id": "n2vFDrpybDi8",
        "outputId": "78c4c784-63f9-462f-bf13-ccd2d5655cca"
      },
      "execution_count": 3,
      "outputs": [
        {
          "output_type": "execute_result",
          "data": {
            "text/plain": [
              "       0           1           2          3          4         5          6   \\\n",
              "0     222   31.189189   40.342342  35.579087   8.883917  0.968325 -80.113673   \n",
              "1      73   29.493151  271.397260  15.517202   6.407490  0.910764  76.042946   \n",
              "2     256   58.816406  289.941406  37.226013   9.863895  0.964256  85.324742   \n",
              "3     126   71.023810  477.412698  13.112980  12.790672  0.220351  63.523477   \n",
              "4     225   90.808889  541.946667  44.463110   7.858879  0.984256 -52.874983   \n",
              "...   ...         ...         ...        ...        ...       ...        ...   \n",
              "1212  216  738.527778  216.449074  38.229761   9.556174  0.968254  12.847813   \n",
              "1213  328  748.896341   47.664634  63.138991   9.101974  0.989555  57.919494   \n",
              "1214   97  761.690722  207.288660  22.751513   8.230351  0.932275 -24.674618   \n",
              "1215  223  770.654708  235.502242  53.491654   8.643053  0.986860  73.244715   \n",
              "1216   87  764.954023  265.655172  13.459738   8.521929  0.774035  18.595633   \n",
              "\n",
              "       7   8          9         10        11       12  13  \n",
              "0     222   1  16.812471  0.816176  0.578125   78.591   0  \n",
              "1      73   1   9.640876  0.858824  0.608333   39.217   0  \n",
              "2     256   1  18.054067  0.752941  0.562637   89.111   0  \n",
              "3     126   1  12.666025  0.881119  0.646154   43.832   0  \n",
              "4     225   1  16.925688  0.728155  0.252525   90.072   7  \n",
              "...   ...  ..        ...       ...       ...      ...  ..  \n",
              "1212  216   1  16.583719  0.640950  0.397059   98.589   0  \n",
              "1213  328   1  20.435816  0.607407  0.205257  131.431   8  \n",
              "1214   97   1  11.113246  0.591463  0.384921   67.427   0  \n",
              "1215  223   1  16.850294  0.557500  0.252834  112.656   0  \n",
              "1216   87   1  10.524820  0.956044  0.743590   32.295   0  \n",
              "\n",
              "[1217 rows x 14 columns]"
            ],
            "text/html": [
              "\n",
              "  <div id=\"df-64a385a7-78a5-43f0-8020-9a7192aff36f\">\n",
              "    <div class=\"colab-df-container\">\n",
              "      <div>\n",
              "<style scoped>\n",
              "    .dataframe tbody tr th:only-of-type {\n",
              "        vertical-align: middle;\n",
              "    }\n",
              "\n",
              "    .dataframe tbody tr th {\n",
              "        vertical-align: top;\n",
              "    }\n",
              "\n",
              "    .dataframe thead th {\n",
              "        text-align: right;\n",
              "    }\n",
              "</style>\n",
              "<table border=\"1\" class=\"dataframe\">\n",
              "  <thead>\n",
              "    <tr style=\"text-align: right;\">\n",
              "      <th></th>\n",
              "      <th>0</th>\n",
              "      <th>1</th>\n",
              "      <th>2</th>\n",
              "      <th>3</th>\n",
              "      <th>4</th>\n",
              "      <th>5</th>\n",
              "      <th>6</th>\n",
              "      <th>7</th>\n",
              "      <th>8</th>\n",
              "      <th>9</th>\n",
              "      <th>10</th>\n",
              "      <th>11</th>\n",
              "      <th>12</th>\n",
              "      <th>13</th>\n",
              "    </tr>\n",
              "  </thead>\n",
              "  <tbody>\n",
              "    <tr>\n",
              "      <th>0</th>\n",
              "      <td>222</td>\n",
              "      <td>31.189189</td>\n",
              "      <td>40.342342</td>\n",
              "      <td>35.579087</td>\n",
              "      <td>8.883917</td>\n",
              "      <td>0.968325</td>\n",
              "      <td>-80.113673</td>\n",
              "      <td>222</td>\n",
              "      <td>1</td>\n",
              "      <td>16.812471</td>\n",
              "      <td>0.816176</td>\n",
              "      <td>0.578125</td>\n",
              "      <td>78.591</td>\n",
              "      <td>0</td>\n",
              "    </tr>\n",
              "    <tr>\n",
              "      <th>1</th>\n",
              "      <td>73</td>\n",
              "      <td>29.493151</td>\n",
              "      <td>271.397260</td>\n",
              "      <td>15.517202</td>\n",
              "      <td>6.407490</td>\n",
              "      <td>0.910764</td>\n",
              "      <td>76.042946</td>\n",
              "      <td>73</td>\n",
              "      <td>1</td>\n",
              "      <td>9.640876</td>\n",
              "      <td>0.858824</td>\n",
              "      <td>0.608333</td>\n",
              "      <td>39.217</td>\n",
              "      <td>0</td>\n",
              "    </tr>\n",
              "    <tr>\n",
              "      <th>2</th>\n",
              "      <td>256</td>\n",
              "      <td>58.816406</td>\n",
              "      <td>289.941406</td>\n",
              "      <td>37.226013</td>\n",
              "      <td>9.863895</td>\n",
              "      <td>0.964256</td>\n",
              "      <td>85.324742</td>\n",
              "      <td>256</td>\n",
              "      <td>1</td>\n",
              "      <td>18.054067</td>\n",
              "      <td>0.752941</td>\n",
              "      <td>0.562637</td>\n",
              "      <td>89.111</td>\n",
              "      <td>0</td>\n",
              "    </tr>\n",
              "    <tr>\n",
              "      <th>3</th>\n",
              "      <td>126</td>\n",
              "      <td>71.023810</td>\n",
              "      <td>477.412698</td>\n",
              "      <td>13.112980</td>\n",
              "      <td>12.790672</td>\n",
              "      <td>0.220351</td>\n",
              "      <td>63.523477</td>\n",
              "      <td>126</td>\n",
              "      <td>1</td>\n",
              "      <td>12.666025</td>\n",
              "      <td>0.881119</td>\n",
              "      <td>0.646154</td>\n",
              "      <td>43.832</td>\n",
              "      <td>0</td>\n",
              "    </tr>\n",
              "    <tr>\n",
              "      <th>4</th>\n",
              "      <td>225</td>\n",
              "      <td>90.808889</td>\n",
              "      <td>541.946667</td>\n",
              "      <td>44.463110</td>\n",
              "      <td>7.858879</td>\n",
              "      <td>0.984256</td>\n",
              "      <td>-52.874983</td>\n",
              "      <td>225</td>\n",
              "      <td>1</td>\n",
              "      <td>16.925688</td>\n",
              "      <td>0.728155</td>\n",
              "      <td>0.252525</td>\n",
              "      <td>90.072</td>\n",
              "      <td>7</td>\n",
              "    </tr>\n",
              "    <tr>\n",
              "      <th>...</th>\n",
              "      <td>...</td>\n",
              "      <td>...</td>\n",
              "      <td>...</td>\n",
              "      <td>...</td>\n",
              "      <td>...</td>\n",
              "      <td>...</td>\n",
              "      <td>...</td>\n",
              "      <td>...</td>\n",
              "      <td>...</td>\n",
              "      <td>...</td>\n",
              "      <td>...</td>\n",
              "      <td>...</td>\n",
              "      <td>...</td>\n",
              "      <td>...</td>\n",
              "    </tr>\n",
              "    <tr>\n",
              "      <th>1212</th>\n",
              "      <td>216</td>\n",
              "      <td>738.527778</td>\n",
              "      <td>216.449074</td>\n",
              "      <td>38.229761</td>\n",
              "      <td>9.556174</td>\n",
              "      <td>0.968254</td>\n",
              "      <td>12.847813</td>\n",
              "      <td>216</td>\n",
              "      <td>1</td>\n",
              "      <td>16.583719</td>\n",
              "      <td>0.640950</td>\n",
              "      <td>0.397059</td>\n",
              "      <td>98.589</td>\n",
              "      <td>0</td>\n",
              "    </tr>\n",
              "    <tr>\n",
              "      <th>1213</th>\n",
              "      <td>328</td>\n",
              "      <td>748.896341</td>\n",
              "      <td>47.664634</td>\n",
              "      <td>63.138991</td>\n",
              "      <td>9.101974</td>\n",
              "      <td>0.989555</td>\n",
              "      <td>57.919494</td>\n",
              "      <td>328</td>\n",
              "      <td>1</td>\n",
              "      <td>20.435816</td>\n",
              "      <td>0.607407</td>\n",
              "      <td>0.205257</td>\n",
              "      <td>131.431</td>\n",
              "      <td>8</td>\n",
              "    </tr>\n",
              "    <tr>\n",
              "      <th>1214</th>\n",
              "      <td>97</td>\n",
              "      <td>761.690722</td>\n",
              "      <td>207.288660</td>\n",
              "      <td>22.751513</td>\n",
              "      <td>8.230351</td>\n",
              "      <td>0.932275</td>\n",
              "      <td>-24.674618</td>\n",
              "      <td>97</td>\n",
              "      <td>1</td>\n",
              "      <td>11.113246</td>\n",
              "      <td>0.591463</td>\n",
              "      <td>0.384921</td>\n",
              "      <td>67.427</td>\n",
              "      <td>0</td>\n",
              "    </tr>\n",
              "    <tr>\n",
              "      <th>1215</th>\n",
              "      <td>223</td>\n",
              "      <td>770.654708</td>\n",
              "      <td>235.502242</td>\n",
              "      <td>53.491654</td>\n",
              "      <td>8.643053</td>\n",
              "      <td>0.986860</td>\n",
              "      <td>73.244715</td>\n",
              "      <td>223</td>\n",
              "      <td>1</td>\n",
              "      <td>16.850294</td>\n",
              "      <td>0.557500</td>\n",
              "      <td>0.252834</td>\n",
              "      <td>112.656</td>\n",
              "      <td>0</td>\n",
              "    </tr>\n",
              "    <tr>\n",
              "      <th>1216</th>\n",
              "      <td>87</td>\n",
              "      <td>764.954023</td>\n",
              "      <td>265.655172</td>\n",
              "      <td>13.459738</td>\n",
              "      <td>8.521929</td>\n",
              "      <td>0.774035</td>\n",
              "      <td>18.595633</td>\n",
              "      <td>87</td>\n",
              "      <td>1</td>\n",
              "      <td>10.524820</td>\n",
              "      <td>0.956044</td>\n",
              "      <td>0.743590</td>\n",
              "      <td>32.295</td>\n",
              "      <td>0</td>\n",
              "    </tr>\n",
              "  </tbody>\n",
              "</table>\n",
              "<p>1217 rows × 14 columns</p>\n",
              "</div>\n",
              "      <button class=\"colab-df-convert\" onclick=\"convertToInteractive('df-64a385a7-78a5-43f0-8020-9a7192aff36f')\"\n",
              "              title=\"Convert this dataframe to an interactive table.\"\n",
              "              style=\"display:none;\">\n",
              "        \n",
              "  <svg xmlns=\"http://www.w3.org/2000/svg\" height=\"24px\"viewBox=\"0 0 24 24\"\n",
              "       width=\"24px\">\n",
              "    <path d=\"M0 0h24v24H0V0z\" fill=\"none\"/>\n",
              "    <path d=\"M18.56 5.44l.94 2.06.94-2.06 2.06-.94-2.06-.94-.94-2.06-.94 2.06-2.06.94zm-11 1L8.5 8.5l.94-2.06 2.06-.94-2.06-.94L8.5 2.5l-.94 2.06-2.06.94zm10 10l.94 2.06.94-2.06 2.06-.94-2.06-.94-.94-2.06-.94 2.06-2.06.94z\"/><path d=\"M17.41 7.96l-1.37-1.37c-.4-.4-.92-.59-1.43-.59-.52 0-1.04.2-1.43.59L10.3 9.45l-7.72 7.72c-.78.78-.78 2.05 0 2.83L4 21.41c.39.39.9.59 1.41.59.51 0 1.02-.2 1.41-.59l7.78-7.78 2.81-2.81c.8-.78.8-2.07 0-2.86zM5.41 20L4 18.59l7.72-7.72 1.47 1.35L5.41 20z\"/>\n",
              "  </svg>\n",
              "      </button>\n",
              "      \n",
              "  <style>\n",
              "    .colab-df-container {\n",
              "      display:flex;\n",
              "      flex-wrap:wrap;\n",
              "      gap: 12px;\n",
              "    }\n",
              "\n",
              "    .colab-df-convert {\n",
              "      background-color: #E8F0FE;\n",
              "      border: none;\n",
              "      border-radius: 50%;\n",
              "      cursor: pointer;\n",
              "      display: none;\n",
              "      fill: #1967D2;\n",
              "      height: 32px;\n",
              "      padding: 0 0 0 0;\n",
              "      width: 32px;\n",
              "    }\n",
              "\n",
              "    .colab-df-convert:hover {\n",
              "      background-color: #E2EBFA;\n",
              "      box-shadow: 0px 1px 2px rgba(60, 64, 67, 0.3), 0px 1px 3px 1px rgba(60, 64, 67, 0.15);\n",
              "      fill: #174EA6;\n",
              "    }\n",
              "\n",
              "    [theme=dark] .colab-df-convert {\n",
              "      background-color: #3B4455;\n",
              "      fill: #D2E3FC;\n",
              "    }\n",
              "\n",
              "    [theme=dark] .colab-df-convert:hover {\n",
              "      background-color: #434B5C;\n",
              "      box-shadow: 0px 1px 3px 1px rgba(0, 0, 0, 0.15);\n",
              "      filter: drop-shadow(0px 1px 2px rgba(0, 0, 0, 0.3));\n",
              "      fill: #FFFFFF;\n",
              "    }\n",
              "  </style>\n",
              "\n",
              "      <script>\n",
              "        const buttonEl =\n",
              "          document.querySelector('#df-64a385a7-78a5-43f0-8020-9a7192aff36f button.colab-df-convert');\n",
              "        buttonEl.style.display =\n",
              "          google.colab.kernel.accessAllowed ? 'block' : 'none';\n",
              "\n",
              "        async function convertToInteractive(key) {\n",
              "          const element = document.querySelector('#df-64a385a7-78a5-43f0-8020-9a7192aff36f');\n",
              "          const dataTable =\n",
              "            await google.colab.kernel.invokeFunction('convertToInteractive',\n",
              "                                                     [key], {});\n",
              "          if (!dataTable) return;\n",
              "\n",
              "          const docLinkHtml = 'Like what you see? Visit the ' +\n",
              "            '<a target=\"_blank\" href=https://colab.research.google.com/notebooks/data_table.ipynb>data table notebook</a>'\n",
              "            + ' to learn more about interactive tables.';\n",
              "          element.innerHTML = '';\n",
              "          dataTable['output_type'] = 'display_data';\n",
              "          await google.colab.output.renderOutput(dataTable, element);\n",
              "          const docLink = document.createElement('div');\n",
              "          docLink.innerHTML = docLinkHtml;\n",
              "          element.appendChild(docLink);\n",
              "        }\n",
              "      </script>\n",
              "    </div>\n",
              "  </div>\n",
              "  "
            ]
          },
          "metadata": {},
          "execution_count": 3
        }
      ]
    },
    {
      "cell_type": "code",
      "source": [
        "df.columns = ['V1','V2','V3','V4','V5','V6','V7','V8','V9','V10','V11','V12','V13','Target']\n",
        "df.shape"
      ],
      "metadata": {
        "colab": {
          "base_uri": "https://localhost:8080/"
        },
        "id": "4fuNkysQa5zX",
        "outputId": "382c4f7d-4818-4541-b8ea-8f9bcbddc30e"
      },
      "execution_count": 4,
      "outputs": [
        {
          "output_type": "execute_result",
          "data": {
            "text/plain": [
              "(1217, 14)"
            ]
          },
          "metadata": {},
          "execution_count": 4
        }
      ]
    },
    {
      "cell_type": "code",
      "source": [
        "df.dtypes"
      ],
      "metadata": {
        "colab": {
          "base_uri": "https://localhost:8080/"
        },
        "id": "7qqXE7EgsYpw",
        "outputId": "014231c6-82a7-4541-c795-dc3b3a2e1f14"
      },
      "execution_count": 5,
      "outputs": [
        {
          "output_type": "execute_result",
          "data": {
            "text/plain": [
              "V1          int64\n",
              "V2        float64\n",
              "V3        float64\n",
              "V4        float64\n",
              "V5        float64\n",
              "V6        float64\n",
              "V7        float64\n",
              "V8          int64\n",
              "V9          int64\n",
              "V10       float64\n",
              "V11       float64\n",
              "V12       float64\n",
              "V13       float64\n",
              "Target      int64\n",
              "dtype: object"
            ]
          },
          "metadata": {},
          "execution_count": 5
        }
      ]
    },
    {
      "cell_type": "code",
      "source": [
        "df.isnull().sum()"
      ],
      "metadata": {
        "colab": {
          "base_uri": "https://localhost:8080/"
        },
        "id": "3fxjiiWYbhDE",
        "outputId": "1317f99f-ec49-43c8-bfbf-d2a54696a892"
      },
      "execution_count": 6,
      "outputs": [
        {
          "output_type": "execute_result",
          "data": {
            "text/plain": [
              "V1        0\n",
              "V2        0\n",
              "V3        0\n",
              "V4        0\n",
              "V5        0\n",
              "V6        0\n",
              "V7        0\n",
              "V8        0\n",
              "V9        0\n",
              "V10       0\n",
              "V11       0\n",
              "V12       0\n",
              "V13       0\n",
              "Target    0\n",
              "dtype: int64"
            ]
          },
          "metadata": {},
          "execution_count": 6
        }
      ]
    },
    {
      "cell_type": "markdown",
      "source": [
        "Transform target variable into those that are interesting (have values greater than 0) and those that are not interesting."
      ],
      "metadata": {
        "id": "xtU8Gyfgyhw9"
      }
    },
    {
      "cell_type": "code",
      "source": [
        "new_target = df.loc[:,'Target']\n",
        "new_target = pd.DataFrame(new_target)\n",
        "new_target.loc[new_target.Target > 0, 'Target'] = 1"
      ],
      "metadata": {
        "id": "jlmHTnV2bqfk"
      },
      "execution_count": 7,
      "outputs": []
    },
    {
      "cell_type": "code",
      "source": [
        "new_target"
      ],
      "metadata": {
        "colab": {
          "base_uri": "https://localhost:8080/",
          "height": 424
        },
        "id": "j8OHpQaCcDuf",
        "outputId": "e41040df-e17c-4267-d397-e2eb2e9907ac"
      },
      "execution_count": 8,
      "outputs": [
        {
          "output_type": "execute_result",
          "data": {
            "text/plain": [
              "      Target\n",
              "0          0\n",
              "1          0\n",
              "2          0\n",
              "3          0\n",
              "4          1\n",
              "...      ...\n",
              "1212       0\n",
              "1213       1\n",
              "1214       0\n",
              "1215       0\n",
              "1216       0\n",
              "\n",
              "[1217 rows x 1 columns]"
            ],
            "text/html": [
              "\n",
              "  <div id=\"df-9694d535-9119-493e-bbef-d8d6f45e9bfb\">\n",
              "    <div class=\"colab-df-container\">\n",
              "      <div>\n",
              "<style scoped>\n",
              "    .dataframe tbody tr th:only-of-type {\n",
              "        vertical-align: middle;\n",
              "    }\n",
              "\n",
              "    .dataframe tbody tr th {\n",
              "        vertical-align: top;\n",
              "    }\n",
              "\n",
              "    .dataframe thead th {\n",
              "        text-align: right;\n",
              "    }\n",
              "</style>\n",
              "<table border=\"1\" class=\"dataframe\">\n",
              "  <thead>\n",
              "    <tr style=\"text-align: right;\">\n",
              "      <th></th>\n",
              "      <th>Target</th>\n",
              "    </tr>\n",
              "  </thead>\n",
              "  <tbody>\n",
              "    <tr>\n",
              "      <th>0</th>\n",
              "      <td>0</td>\n",
              "    </tr>\n",
              "    <tr>\n",
              "      <th>1</th>\n",
              "      <td>0</td>\n",
              "    </tr>\n",
              "    <tr>\n",
              "      <th>2</th>\n",
              "      <td>0</td>\n",
              "    </tr>\n",
              "    <tr>\n",
              "      <th>3</th>\n",
              "      <td>0</td>\n",
              "    </tr>\n",
              "    <tr>\n",
              "      <th>4</th>\n",
              "      <td>1</td>\n",
              "    </tr>\n",
              "    <tr>\n",
              "      <th>...</th>\n",
              "      <td>...</td>\n",
              "    </tr>\n",
              "    <tr>\n",
              "      <th>1212</th>\n",
              "      <td>0</td>\n",
              "    </tr>\n",
              "    <tr>\n",
              "      <th>1213</th>\n",
              "      <td>1</td>\n",
              "    </tr>\n",
              "    <tr>\n",
              "      <th>1214</th>\n",
              "      <td>0</td>\n",
              "    </tr>\n",
              "    <tr>\n",
              "      <th>1215</th>\n",
              "      <td>0</td>\n",
              "    </tr>\n",
              "    <tr>\n",
              "      <th>1216</th>\n",
              "      <td>0</td>\n",
              "    </tr>\n",
              "  </tbody>\n",
              "</table>\n",
              "<p>1217 rows × 1 columns</p>\n",
              "</div>\n",
              "      <button class=\"colab-df-convert\" onclick=\"convertToInteractive('df-9694d535-9119-493e-bbef-d8d6f45e9bfb')\"\n",
              "              title=\"Convert this dataframe to an interactive table.\"\n",
              "              style=\"display:none;\">\n",
              "        \n",
              "  <svg xmlns=\"http://www.w3.org/2000/svg\" height=\"24px\"viewBox=\"0 0 24 24\"\n",
              "       width=\"24px\">\n",
              "    <path d=\"M0 0h24v24H0V0z\" fill=\"none\"/>\n",
              "    <path d=\"M18.56 5.44l.94 2.06.94-2.06 2.06-.94-2.06-.94-.94-2.06-.94 2.06-2.06.94zm-11 1L8.5 8.5l.94-2.06 2.06-.94-2.06-.94L8.5 2.5l-.94 2.06-2.06.94zm10 10l.94 2.06.94-2.06 2.06-.94-2.06-.94-.94-2.06-.94 2.06-2.06.94z\"/><path d=\"M17.41 7.96l-1.37-1.37c-.4-.4-.92-.59-1.43-.59-.52 0-1.04.2-1.43.59L10.3 9.45l-7.72 7.72c-.78.78-.78 2.05 0 2.83L4 21.41c.39.39.9.59 1.41.59.51 0 1.02-.2 1.41-.59l7.78-7.78 2.81-2.81c.8-.78.8-2.07 0-2.86zM5.41 20L4 18.59l7.72-7.72 1.47 1.35L5.41 20z\"/>\n",
              "  </svg>\n",
              "      </button>\n",
              "      \n",
              "  <style>\n",
              "    .colab-df-container {\n",
              "      display:flex;\n",
              "      flex-wrap:wrap;\n",
              "      gap: 12px;\n",
              "    }\n",
              "\n",
              "    .colab-df-convert {\n",
              "      background-color: #E8F0FE;\n",
              "      border: none;\n",
              "      border-radius: 50%;\n",
              "      cursor: pointer;\n",
              "      display: none;\n",
              "      fill: #1967D2;\n",
              "      height: 32px;\n",
              "      padding: 0 0 0 0;\n",
              "      width: 32px;\n",
              "    }\n",
              "\n",
              "    .colab-df-convert:hover {\n",
              "      background-color: #E2EBFA;\n",
              "      box-shadow: 0px 1px 2px rgba(60, 64, 67, 0.3), 0px 1px 3px 1px rgba(60, 64, 67, 0.15);\n",
              "      fill: #174EA6;\n",
              "    }\n",
              "\n",
              "    [theme=dark] .colab-df-convert {\n",
              "      background-color: #3B4455;\n",
              "      fill: #D2E3FC;\n",
              "    }\n",
              "\n",
              "    [theme=dark] .colab-df-convert:hover {\n",
              "      background-color: #434B5C;\n",
              "      box-shadow: 0px 1px 3px 1px rgba(0, 0, 0, 0.15);\n",
              "      filter: drop-shadow(0px 1px 2px rgba(0, 0, 0, 0.3));\n",
              "      fill: #FFFFFF;\n",
              "    }\n",
              "  </style>\n",
              "\n",
              "      <script>\n",
              "        const buttonEl =\n",
              "          document.querySelector('#df-9694d535-9119-493e-bbef-d8d6f45e9bfb button.colab-df-convert');\n",
              "        buttonEl.style.display =\n",
              "          google.colab.kernel.accessAllowed ? 'block' : 'none';\n",
              "\n",
              "        async function convertToInteractive(key) {\n",
              "          const element = document.querySelector('#df-9694d535-9119-493e-bbef-d8d6f45e9bfb');\n",
              "          const dataTable =\n",
              "            await google.colab.kernel.invokeFunction('convertToInteractive',\n",
              "                                                     [key], {});\n",
              "          if (!dataTable) return;\n",
              "\n",
              "          const docLinkHtml = 'Like what you see? Visit the ' +\n",
              "            '<a target=\"_blank\" href=https://colab.research.google.com/notebooks/data_table.ipynb>data table notebook</a>'\n",
              "            + ' to learn more about interactive tables.';\n",
              "          element.innerHTML = '';\n",
              "          dataTable['output_type'] = 'display_data';\n",
              "          await google.colab.output.renderOutput(dataTable, element);\n",
              "          const docLink = document.createElement('div');\n",
              "          docLink.innerHTML = docLinkHtml;\n",
              "          element.appendChild(docLink);\n",
              "        }\n",
              "      </script>\n",
              "    </div>\n",
              "  </div>\n",
              "  "
            ]
          },
          "metadata": {},
          "execution_count": 8
        }
      ]
    },
    {
      "cell_type": "code",
      "source": [
        "y = new_target.values.ravel()"
      ],
      "metadata": {
        "id": "eqy2D1ntsRiM"
      },
      "execution_count": 9,
      "outputs": []
    },
    {
      "cell_type": "code",
      "source": [
        "x = df.iloc[:,0:13]"
      ],
      "metadata": {
        "id": "oohJoUUlt0Ek"
      },
      "execution_count": 10,
      "outputs": []
    },
    {
      "cell_type": "markdown",
      "source": [
        "Standardize training variables"
      ],
      "metadata": {
        "id": "8LcIGHQEy4Tt"
      }
    },
    {
      "cell_type": "code",
      "source": [
        "ZX= preprocessing.scale(x)\n",
        "x = pd.DataFrame(ZX)\n",
        "print(x, '\\n')\n",
        "print(x.mean(axis=0), \n",
        "x.std(axis=0))"
      ],
      "metadata": {
        "colab": {
          "base_uri": "https://localhost:8080/"
        },
        "id": "y7I8BC9Dt3yE",
        "outputId": "ff8953c3-865d-4a5c-cd09-a7bef08579e3"
      },
      "execution_count": 11,
      "outputs": [
        {
          "output_type": "stream",
          "name": "stdout",
          "text": [
            "            0         1         2         3         4         5         6   \\\n",
            "0     0.159528 -1.802006 -1.208134  0.114420 -0.135689  0.538311 -1.587426   \n",
            "1    -0.939212 -1.809877  0.424363 -0.933511 -0.817247  0.019258  1.500586   \n",
            "2     0.410247 -1.673790  0.555385  0.200447  0.134019  0.501621  1.684134   \n",
            "3    -0.548385 -1.617137  1.879947 -1.059096  0.939523 -6.206504  1.253012   \n",
            "4     0.181650 -1.525316  2.335905  0.578476 -0.417798  0.681969 -1.048779   \n",
            "...        ...       ...       ...       ...       ...       ...       ...   \n",
            "1212  0.115283  1.480684  0.036132  0.252878  0.049329  0.537678  0.250896   \n",
            "1213  0.941181  1.528803 -1.156399  1.554010 -0.075675  0.729753  1.142193   \n",
            "1214 -0.762234  1.588181 -0.028590 -0.555628 -0.315562  0.213238 -0.491114   \n",
            "1215  0.166902  1.629782  0.170750  1.050082 -0.201979  0.705453  1.445251   \n",
            "1216 -0.835975  1.603325  0.383793 -1.040983 -0.235315 -1.213681  0.364560   \n",
            "\n",
            "            7         8         9         10        11        12  \n",
            "0     0.135833  0.233292  0.329626  0.345115  0.652891 -0.006913  \n",
            "1    -0.909580  0.233292 -1.221986  0.707287  0.843750 -0.814113  \n",
            "2     0.374384  0.233292  0.598252 -0.191898  0.555039  0.208756  \n",
            "3    -0.537722  0.233292 -0.567479  0.896626  1.082702 -0.719501  \n",
            "4     0.156881  0.233292  0.354121 -0.402387 -1.404271  0.228457  \n",
            "...        ...       ...       ...       ...       ...       ...  \n",
            "1212  0.093736  0.233292  0.280134 -1.142965 -0.491097  0.403063  \n",
            "1213  0.879550  0.233292  1.113556 -1.427815 -1.702917  1.076351  \n",
            "1214 -0.741192  0.233292 -0.903431 -1.563216 -0.567787 -0.235784  \n",
            "1215  0.142849  0.233292  0.337809 -1.851643 -1.402317  0.691448  \n",
            "1216 -0.811354  0.233292 -1.030740  1.532912  1.698309 -0.956020  \n",
            "\n",
            "[1217 rows x 13 columns] \n",
            "\n",
            "0     4.086934e-17\n",
            "1     7.006173e-17\n",
            "2    -8.757717e-17\n",
            "3     1.284465e-16\n",
            "4    -1.080118e-16\n",
            "5     1.495380e-15\n",
            "6     8.757717e-18\n",
            "7     5.838478e-17\n",
            "8    -6.422325e-17\n",
            "9     5.196245e-16\n",
            "10   -5.254630e-16\n",
            "11    1.167696e-17\n",
            "12   -5.838478e-17\n",
            "dtype: float64 0     1.000411\n",
            "1     1.000411\n",
            "2     1.000411\n",
            "3     1.000411\n",
            "4     1.000411\n",
            "5     1.000411\n",
            "6     1.000411\n",
            "7     1.000411\n",
            "8     1.000411\n",
            "9     1.000411\n",
            "10    1.000411\n",
            "11    1.000411\n",
            "12    1.000411\n",
            "dtype: float64\n"
          ]
        }
      ]
    },
    {
      "cell_type": "markdown",
      "source": [
        "Split the dataset into training and test data for modeling"
      ],
      "metadata": {
        "id": "EuM6YRbXy8PE"
      }
    },
    {
      "cell_type": "code",
      "source": [
        "x_train,x_test,y_train,y_test= train_test_split(ZX, y, test_size=0.25, random_state=110)"
      ],
      "metadata": {
        "id": "bt8xl_0cMixl"
      },
      "execution_count": 12,
      "outputs": []
    },
    {
      "cell_type": "markdown",
      "source": [
        "Begin NN modeling on Cell Analysis data"
      ],
      "metadata": {
        "id": "xEPzboO-zFf-"
      }
    },
    {
      "cell_type": "code",
      "source": [
        "model = Sequential()\n",
        "model.add(Dense(units = 10, input_dim=13, activation = 'relu'))\n",
        "model.add(Dense(units = 6, activation = 'relu')) #more layers = more training necessary -> so increased epochs\n",
        "model.add(Dense(units = 2, activation = 'softmax')) "
      ],
      "metadata": {
        "id": "VXHEwwWduB3k"
      },
      "execution_count": 13,
      "outputs": []
    },
    {
      "cell_type": "code",
      "source": [
        "y_train = utils.to_categorical(y_train,2)"
      ],
      "metadata": {
        "id": "B4z4_rDLzhZp"
      },
      "execution_count": 14,
      "outputs": []
    },
    {
      "cell_type": "code",
      "source": [
        "adam = Adam(learning_rate=0.1)\n",
        "model.compile(loss='binary_crossentropy',  metrics=['accuracy']) \n",
        "#removed optimizer adam from model as the model was learning too fast: Could remove optimizer or decrease initial learning rate.\n",
        "history=model.fit(x_train, y_train, validation_split=0.33, epochs=50, batch_size=4, verbose=1) "
      ],
      "metadata": {
        "colab": {
          "base_uri": "https://localhost:8080/"
        },
        "id": "gQdKbC4VzvVX",
        "outputId": "f8059ea9-f30d-4d10-fc88-d19328ef3f00"
      },
      "execution_count": 15,
      "outputs": [
        {
          "output_type": "stream",
          "name": "stdout",
          "text": [
            "Epoch 1/50\n",
            "153/153 [==============================] - 2s 8ms/step - loss: 0.5966 - accuracy: 0.7643 - val_loss: 0.5031 - val_accuracy: 0.8638\n",
            "Epoch 2/50\n",
            "153/153 [==============================] - 1s 6ms/step - loss: 0.4081 - accuracy: 0.8773 - val_loss: 0.3612 - val_accuracy: 0.8505\n",
            "Epoch 3/50\n",
            "153/153 [==============================] - 1s 5ms/step - loss: 0.3092 - accuracy: 0.8789 - val_loss: 0.3106 - val_accuracy: 0.8671\n",
            "Epoch 4/50\n",
            "153/153 [==============================] - 1s 4ms/step - loss: 0.2718 - accuracy: 0.8985 - val_loss: 0.2834 - val_accuracy: 0.8970\n",
            "Epoch 5/50\n",
            "153/153 [==============================] - 1s 4ms/step - loss: 0.2501 - accuracy: 0.9083 - val_loss: 0.2679 - val_accuracy: 0.9070\n",
            "Epoch 6/50\n",
            "153/153 [==============================] - 1s 6ms/step - loss: 0.2343 - accuracy: 0.9083 - val_loss: 0.2496 - val_accuracy: 0.9169\n",
            "Epoch 7/50\n",
            "153/153 [==============================] - 1s 4ms/step - loss: 0.2227 - accuracy: 0.9133 - val_loss: 0.2364 - val_accuracy: 0.9136\n",
            "Epoch 8/50\n",
            "153/153 [==============================] - 1s 4ms/step - loss: 0.2131 - accuracy: 0.9165 - val_loss: 0.2324 - val_accuracy: 0.9103\n",
            "Epoch 9/50\n",
            "153/153 [==============================] - 1s 5ms/step - loss: 0.2067 - accuracy: 0.9182 - val_loss: 0.2253 - val_accuracy: 0.9136\n",
            "Epoch 10/50\n",
            "153/153 [==============================] - 1s 5ms/step - loss: 0.2010 - accuracy: 0.9182 - val_loss: 0.2178 - val_accuracy: 0.9203\n",
            "Epoch 11/50\n",
            "153/153 [==============================] - 1s 5ms/step - loss: 0.1960 - accuracy: 0.9182 - val_loss: 0.2184 - val_accuracy: 0.9203\n",
            "Epoch 12/50\n",
            "153/153 [==============================] - 1s 6ms/step - loss: 0.1921 - accuracy: 0.9214 - val_loss: 0.2102 - val_accuracy: 0.9269\n",
            "Epoch 13/50\n",
            "153/153 [==============================] - 0s 3ms/step - loss: 0.1895 - accuracy: 0.9149 - val_loss: 0.2110 - val_accuracy: 0.9236\n",
            "Epoch 14/50\n",
            "153/153 [==============================] - 1s 4ms/step - loss: 0.1856 - accuracy: 0.9133 - val_loss: 0.2187 - val_accuracy: 0.9203\n",
            "Epoch 15/50\n",
            "153/153 [==============================] - 1s 4ms/step - loss: 0.1847 - accuracy: 0.9198 - val_loss: 0.2091 - val_accuracy: 0.9203\n",
            "Epoch 16/50\n",
            "153/153 [==============================] - 1s 4ms/step - loss: 0.1824 - accuracy: 0.9198 - val_loss: 0.2085 - val_accuracy: 0.9203\n",
            "Epoch 17/50\n",
            "153/153 [==============================] - 1s 5ms/step - loss: 0.1786 - accuracy: 0.9149 - val_loss: 0.2139 - val_accuracy: 0.9203\n",
            "Epoch 18/50\n",
            "153/153 [==============================] - 1s 6ms/step - loss: 0.1771 - accuracy: 0.9231 - val_loss: 0.2010 - val_accuracy: 0.9203\n",
            "Epoch 19/50\n",
            "153/153 [==============================] - 1s 5ms/step - loss: 0.1753 - accuracy: 0.9198 - val_loss: 0.2006 - val_accuracy: 0.9203\n",
            "Epoch 20/50\n",
            "153/153 [==============================] - 0s 3ms/step - loss: 0.1729 - accuracy: 0.9231 - val_loss: 0.1945 - val_accuracy: 0.9269\n",
            "Epoch 21/50\n",
            "153/153 [==============================] - 0s 3ms/step - loss: 0.1708 - accuracy: 0.9149 - val_loss: 0.2035 - val_accuracy: 0.9136\n",
            "Epoch 22/50\n",
            "153/153 [==============================] - 0s 2ms/step - loss: 0.1687 - accuracy: 0.9247 - val_loss: 0.1946 - val_accuracy: 0.9203\n",
            "Epoch 23/50\n",
            "153/153 [==============================] - 0s 2ms/step - loss: 0.1683 - accuracy: 0.9231 - val_loss: 0.1957 - val_accuracy: 0.9169\n",
            "Epoch 24/50\n",
            "153/153 [==============================] - 0s 3ms/step - loss: 0.1642 - accuracy: 0.9264 - val_loss: 0.1983 - val_accuracy: 0.9203\n",
            "Epoch 25/50\n",
            "153/153 [==============================] - 0s 3ms/step - loss: 0.1645 - accuracy: 0.9280 - val_loss: 0.1977 - val_accuracy: 0.9203\n",
            "Epoch 26/50\n",
            "153/153 [==============================] - 0s 3ms/step - loss: 0.1633 - accuracy: 0.9231 - val_loss: 0.1956 - val_accuracy: 0.9169\n",
            "Epoch 27/50\n",
            "153/153 [==============================] - 0s 3ms/step - loss: 0.1626 - accuracy: 0.9313 - val_loss: 0.1955 - val_accuracy: 0.9169\n",
            "Epoch 28/50\n",
            "153/153 [==============================] - 0s 2ms/step - loss: 0.1603 - accuracy: 0.9280 - val_loss: 0.2018 - val_accuracy: 0.9169\n",
            "Epoch 29/50\n",
            "153/153 [==============================] - 0s 2ms/step - loss: 0.1605 - accuracy: 0.9313 - val_loss: 0.1990 - val_accuracy: 0.9203\n",
            "Epoch 30/50\n",
            "153/153 [==============================] - 0s 3ms/step - loss: 0.1606 - accuracy: 0.9329 - val_loss: 0.2004 - val_accuracy: 0.9203\n",
            "Epoch 31/50\n",
            "153/153 [==============================] - 0s 3ms/step - loss: 0.1597 - accuracy: 0.9313 - val_loss: 0.1993 - val_accuracy: 0.9203\n",
            "Epoch 32/50\n",
            "153/153 [==============================] - 0s 2ms/step - loss: 0.1584 - accuracy: 0.9280 - val_loss: 0.2013 - val_accuracy: 0.9236\n",
            "Epoch 33/50\n",
            "153/153 [==============================] - 0s 2ms/step - loss: 0.1580 - accuracy: 0.9247 - val_loss: 0.2019 - val_accuracy: 0.9203\n",
            "Epoch 34/50\n",
            "153/153 [==============================] - 0s 3ms/step - loss: 0.1562 - accuracy: 0.9264 - val_loss: 0.2026 - val_accuracy: 0.9203\n",
            "Epoch 35/50\n",
            "153/153 [==============================] - 0s 3ms/step - loss: 0.1569 - accuracy: 0.9313 - val_loss: 0.2071 - val_accuracy: 0.9203\n",
            "Epoch 36/50\n",
            "153/153 [==============================] - 0s 3ms/step - loss: 0.1563 - accuracy: 0.9313 - val_loss: 0.2070 - val_accuracy: 0.9203\n",
            "Epoch 37/50\n",
            "153/153 [==============================] - 0s 2ms/step - loss: 0.1548 - accuracy: 0.9247 - val_loss: 0.2135 - val_accuracy: 0.9203\n",
            "Epoch 38/50\n",
            "153/153 [==============================] - 0s 2ms/step - loss: 0.1558 - accuracy: 0.9264 - val_loss: 0.2064 - val_accuracy: 0.9236\n",
            "Epoch 39/50\n",
            "153/153 [==============================] - 0s 2ms/step - loss: 0.1550 - accuracy: 0.9247 - val_loss: 0.2043 - val_accuracy: 0.9203\n",
            "Epoch 40/50\n",
            "153/153 [==============================] - 0s 2ms/step - loss: 0.1544 - accuracy: 0.9329 - val_loss: 0.2059 - val_accuracy: 0.9203\n",
            "Epoch 41/50\n",
            "153/153 [==============================] - 0s 3ms/step - loss: 0.1531 - accuracy: 0.9313 - val_loss: 0.2054 - val_accuracy: 0.9203\n",
            "Epoch 42/50\n",
            "153/153 [==============================] - 0s 3ms/step - loss: 0.1540 - accuracy: 0.9329 - val_loss: 0.2112 - val_accuracy: 0.9203\n",
            "Epoch 43/50\n",
            "153/153 [==============================] - 0s 2ms/step - loss: 0.1521 - accuracy: 0.9329 - val_loss: 0.2089 - val_accuracy: 0.9236\n",
            "Epoch 44/50\n",
            "153/153 [==============================] - 0s 3ms/step - loss: 0.1527 - accuracy: 0.9362 - val_loss: 0.2115 - val_accuracy: 0.9236\n",
            "Epoch 45/50\n",
            "153/153 [==============================] - 0s 2ms/step - loss: 0.1514 - accuracy: 0.9313 - val_loss: 0.2043 - val_accuracy: 0.9269\n",
            "Epoch 46/50\n",
            "153/153 [==============================] - 0s 3ms/step - loss: 0.1520 - accuracy: 0.9296 - val_loss: 0.2120 - val_accuracy: 0.9236\n",
            "Epoch 47/50\n",
            "153/153 [==============================] - 0s 3ms/step - loss: 0.1521 - accuracy: 0.9329 - val_loss: 0.2145 - val_accuracy: 0.9269\n",
            "Epoch 48/50\n",
            "153/153 [==============================] - 0s 3ms/step - loss: 0.1506 - accuracy: 0.9280 - val_loss: 0.2131 - val_accuracy: 0.9269\n",
            "Epoch 49/50\n",
            "153/153 [==============================] - 0s 3ms/step - loss: 0.1515 - accuracy: 0.9329 - val_loss: 0.2105 - val_accuracy: 0.9236\n",
            "Epoch 50/50\n",
            "153/153 [==============================] - 0s 3ms/step - loss: 0.1497 - accuracy: 0.9313 - val_loss: 0.2118 - val_accuracy: 0.9236\n"
          ]
        }
      ]
    },
    {
      "cell_type": "markdown",
      "source": [
        "Question 1: Print architectural layers of model"
      ],
      "metadata": {
        "id": "KbwMP_9fzWQU"
      }
    },
    {
      "cell_type": "code",
      "source": [
        "model.summary()"
      ],
      "metadata": {
        "colab": {
          "base_uri": "https://localhost:8080/"
        },
        "id": "My3NXjRCzVCd",
        "outputId": "51bc3457-d5d4-45bf-aa58-0de5ade9134e"
      },
      "execution_count": 16,
      "outputs": [
        {
          "output_type": "stream",
          "name": "stdout",
          "text": [
            "Model: \"sequential\"\n",
            "_________________________________________________________________\n",
            " Layer (type)                Output Shape              Param #   \n",
            "=================================================================\n",
            " dense (Dense)               (None, 10)                140       \n",
            "                                                                 \n",
            " dense_1 (Dense)             (None, 6)                 66        \n",
            "                                                                 \n",
            " dense_2 (Dense)             (None, 2)                 14        \n",
            "                                                                 \n",
            "=================================================================\n",
            "Total params: 220\n",
            "Trainable params: 220\n",
            "Non-trainable params: 0\n",
            "_________________________________________________________________\n"
          ]
        }
      ]
    },
    {
      "cell_type": "markdown",
      "source": [
        "Obtain overall accuracy score"
      ],
      "metadata": {
        "id": "RdT7reJ_zPTN"
      }
    },
    {
      "cell_type": "code",
      "source": [
        "train_scores = model.evaluate(x_train, y_train)"
      ],
      "metadata": {
        "colab": {
          "base_uri": "https://localhost:8080/"
        },
        "id": "pJ8rnEMaZJ9-",
        "outputId": "f09632c5-5927-48d0-f579-67ca27d95014"
      },
      "execution_count": 17,
      "outputs": [
        {
          "output_type": "stream",
          "name": "stdout",
          "text": [
            "29/29 [==============================] - 0s 1ms/step - loss: 0.1661 - accuracy: 0.9287\n"
          ]
        }
      ]
    },
    {
      "cell_type": "markdown",
      "source": [
        "Evaluate training of model over epoch"
      ],
      "metadata": {
        "id": "_r1kMAFXzeX6"
      }
    },
    {
      "cell_type": "code",
      "source": [
        "plt.plot(history.history['accuracy'])\n",
        "plt.plot(history.history['val_accuracy'])\n",
        "plt.title('model accuracy') \n",
        "plt.ylabel('accuracy') \n",
        "plt.xlabel('epoch')\n",
        "plt.legend(['train', 'test'], loc='upper left')\n",
        "plt.show()\n",
        "# summarize history for loss \n",
        "plt.plot(history.history['loss'])\n",
        "plt.plot(history.history['val_loss'])\n",
        "plt.title('model loss')\n",
        "plt.ylabel('loss')\n",
        "plt.legend(['train', 'test'], loc='upper left')\n",
        "plt.xlabel('epoch')\n",
        "plt.show()"
      ],
      "metadata": {
        "colab": {
          "base_uri": "https://localhost:8080/",
          "height": 573
        },
        "id": "WHHIkBDm1jBX",
        "outputId": "b75a7398-44fe-4e27-e5e3-533b599a63b8"
      },
      "execution_count": 18,
      "outputs": [
        {
          "output_type": "display_data",
          "data": {
            "text/plain": [
              "<Figure size 432x288 with 1 Axes>"
            ],
            "image/png": "[encoded data removed]"
          },
          "metadata": {
            "needs_background": "light"
          }
        },
        {
          "output_type": "display_data",
          "data": {
            "text/plain": [
              "<Figure size 432x288 with 1 Axes>"
            ],
            "image/png": "[encoded data removed]"
          },
          "metadata": {
            "needs_background": "light"
          }
        }
      ]
    },
    {
      "cell_type": "markdown",
      "source": [
        "Question 2: Print classification report on testing data\n",
        "- overall accuracy = ~90%"
      ],
      "metadata": {
        "id": "5-iHbVCkzoeM"
      }
    },
    {
      "cell_type": "code",
      "source": [
        "y_pred_prob = model.predict(x_test)\n",
        "y_pred_class = np.argmax(y_pred_prob, axis = 1) \n",
        "accuracy_score(y_test,y_pred_class)\n",
        "print(classification_report(y_test,y_pred_class))"
      ],
      "metadata": {
        "colab": {
          "base_uri": "https://localhost:8080/"
        },
        "id": "1c0-MOK-adYi",
        "outputId": "38342479-4050-4f73-c0ef-fcde57436d6c"
      },
      "execution_count": 19,
      "outputs": [
        {
          "output_type": "stream",
          "name": "stdout",
          "text": [
            "              precision    recall  f1-score   support\n",
            "\n",
            "           0       0.96      0.92      0.94       258\n",
            "           1       0.63      0.77      0.69        47\n",
            "\n",
            "    accuracy                           0.90       305\n",
            "   macro avg       0.79      0.84      0.81       305\n",
            "weighted avg       0.91      0.90      0.90       305\n",
            "\n"
          ]
        }
      ]
    },
    {
      "cell_type": "markdown",
      "source": [
        "Question 2: Print classification report on training data\n",
        "- overall accuracy: ~93%"
      ],
      "metadata": {
        "id": "wHEhyHMez0nr"
      }
    },
    {
      "cell_type": "code",
      "source": [
        "#perform classification report on train data\n",
        "y_pred_prob = model.predict(x_train)\n",
        "y_pred_class = np.argmax(y_pred_prob, axis = 1) # put some logic on max numpy function argmax\n",
        "y_pred_class = utils.to_categorical(y_pred_class,2)\n",
        "accuracy_score(y_train,y_pred_class)\n",
        "print(classification_report(y_train,y_pred_class))"
      ],
      "metadata": {
        "colab": {
          "base_uri": "https://localhost:8080/"
        },
        "id": "wm1Xg2liOhQ3",
        "outputId": "e8fbaa84-5793-448d-8b16-8f58bc63e84b"
      },
      "execution_count": 20,
      "outputs": [
        {
          "output_type": "stream",
          "name": "stdout",
          "text": [
            "              precision    recall  f1-score   support\n",
            "\n",
            "           0       0.96      0.96      0.96       759\n",
            "           1       0.79      0.78      0.79       153\n",
            "\n",
            "   micro avg       0.93      0.93      0.93       912\n",
            "   macro avg       0.87      0.87      0.87       912\n",
            "weighted avg       0.93      0.93      0.93       912\n",
            " samples avg       0.93      0.93      0.93       912\n",
            "\n"
          ]
        }
      ]
    }
  ]
}