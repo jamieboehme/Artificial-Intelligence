{
  "nbformat": 4,
  "nbformat_minor": 0,
  "metadata": {
    "colab": {
      "provenance": [],
      "collapsed_sections": []
    },
    "kernelspec": {
      "name": "python3",
      "display_name": "Python 3"
    },
    "language_info": {
      "name": "python"
    }
  },
  "cells": [
    {
      "cell_type": "markdown",
      "source": [
        "## SEIS 764-01 Assignment 4\n",
        "**Jamie Boehme**"
      ],
      "metadata": {
        "id": "QsnOA-_wyBJR"
      }
    },
    {
      "cell_type": "markdown",
      "source": [
        "Import libraries for processing."
      ],
      "metadata": {
        "id": "-mhPpWR8yPXi"
      }
    },
    {
      "cell_type": "code",
      "execution_count": 1,
      "metadata": {
        "id": "mplf9Sv6ZFl6"
      },
      "outputs": [],
      "source": [
        "from tensorflow.keras.models import Sequential, Model\n",
        "from tensorflow.keras.layers import Dense, Activation\n",
        "from tensorflow.keras.utils import to_categorical\n",
        "from tensorflow.keras.optimizers import Adam\n",
        "from tensorflow.keras import utils\n",
        "import pandas as pd\n",
        "import numpy as np\n",
        "from sklearn import preprocessing\n",
        "from sklearn.model_selection import train_test_split\n",
        "from sklearn.metrics import accuracy_score\n",
        "from sklearn.metrics import classification_report\n",
        "import matplotlib.pyplot as plt\n",
        "from sklearn.manifold import TSNE\n",
        "import seaborn as sns"
      ]
    },
    {
      "cell_type": "markdown",
      "source": [
        "Read in data from Github repo"
      ],
      "metadata": {
        "id": "rtfWJbJGyXVq"
      }
    },
    {
      "cell_type": "code",
      "source": [
        "url = 'https://raw.githubusercontent.com/jamieboehme/Artificial-Intelligence/main/CellDNA.csv'\n",
        "df = pd.read_csv(url, header=None)"
      ],
      "metadata": {
        "id": "nrFo1eWKZT6z"
      },
      "execution_count": 2,
      "outputs": []
    },
    {
      "cell_type": "markdown",
      "source": [
        "Do some quick exploration of the dataset"
      ],
      "metadata": {
        "id": "BL2PQWMyydnj"
      }
    },
    {
      "cell_type": "code",
      "source": [
        "df.columns = ['V1','V2','V3','V4','V5','V6','V7','V8','V9','V10','V11','V12','V13','Target']\n",
        "df.shape"
      ],
      "metadata": {
        "colab": {
          "base_uri": "https://localhost:8080/"
        },
        "id": "ZTqahtQjKtIR",
        "outputId": "979981fc-e5a7-44b1-e21d-fdcd3dd673e9"
      },
      "execution_count": 3,
      "outputs": [
        {
          "output_type": "execute_result",
          "data": {
            "text/plain": [
              "(1217, 14)"
            ]
          },
          "metadata": {},
          "execution_count": 3
        }
      ]
    },
    {
      "cell_type": "markdown",
      "source": [
        "Transform target variable into those that are interesting (have values greater than 0) and those that are not interesting."
      ],
      "metadata": {
        "id": "xtU8Gyfgyhw9"
      }
    },
    {
      "cell_type": "code",
      "source": [
        "new_target = df.loc[:,'Target']\n",
        "new_target = pd.DataFrame(new_target)\n",
        "new_target.loc[new_target.Target > 0, 'Target'] = 1"
      ],
      "metadata": {
        "id": "jlmHTnV2bqfk"
      },
      "execution_count": 4,
      "outputs": []
    },
    {
      "cell_type": "code",
      "source": [
        "new_target"
      ],
      "metadata": {
        "colab": {
          "base_uri": "https://localhost:8080/",
          "height": 424
        },
        "id": "j8OHpQaCcDuf",
        "outputId": "dbf6e457-c3fb-4aec-c057-f1aa4de91951"
      },
      "execution_count": 5,
      "outputs": [
        {
          "output_type": "execute_result",
          "data": {
            "text/plain": [
              "      Target\n",
              "0          0\n",
              "1          0\n",
              "2          0\n",
              "3          0\n",
              "4          1\n",
              "...      ...\n",
              "1212       0\n",
              "1213       1\n",
              "1214       0\n",
              "1215       0\n",
              "1216       0\n",
              "\n",
              "[1217 rows x 1 columns]"
            ],
            "text/html": [
              "\n",
              "  <div id=\"df-430369d3-92cc-4a90-a921-80b538c85c69\">\n",
              "    <div class=\"colab-df-container\">\n",
              "      <div>\n",
              "<style scoped>\n",
              "    .dataframe tbody tr th:only-of-type {\n",
              "        vertical-align: middle;\n",
              "    }\n",
              "\n",
              "    .dataframe tbody tr th {\n",
              "        vertical-align: top;\n",
              "    }\n",
              "\n",
              "    .dataframe thead th {\n",
              "        text-align: right;\n",
              "    }\n",
              "</style>\n",
              "<table border=\"1\" class=\"dataframe\">\n",
              "  <thead>\n",
              "    <tr style=\"text-align: right;\">\n",
              "      <th></th>\n",
              "      <th>Target</th>\n",
              "    </tr>\n",
              "  </thead>\n",
              "  <tbody>\n",
              "    <tr>\n",
              "      <th>0</th>\n",
              "      <td>0</td>\n",
              "    </tr>\n",
              "    <tr>\n",
              "      <th>1</th>\n",
              "      <td>0</td>\n",
              "    </tr>\n",
              "    <tr>\n",
              "      <th>2</th>\n",
              "      <td>0</td>\n",
              "    </tr>\n",
              "    <tr>\n",
              "      <th>3</th>\n",
              "      <td>0</td>\n",
              "    </tr>\n",
              "    <tr>\n",
              "      <th>4</th>\n",
              "      <td>1</td>\n",
              "    </tr>\n",
              "    <tr>\n",
              "      <th>...</th>\n",
              "      <td>...</td>\n",
              "    </tr>\n",
              "    <tr>\n",
              "      <th>1212</th>\n",
              "      <td>0</td>\n",
              "    </tr>\n",
              "    <tr>\n",
              "      <th>1213</th>\n",
              "      <td>1</td>\n",
              "    </tr>\n",
              "    <tr>\n",
              "      <th>1214</th>\n",
              "      <td>0</td>\n",
              "    </tr>\n",
              "    <tr>\n",
              "      <th>1215</th>\n",
              "      <td>0</td>\n",
              "    </tr>\n",
              "    <tr>\n",
              "      <th>1216</th>\n",
              "      <td>0</td>\n",
              "    </tr>\n",
              "  </tbody>\n",
              "</table>\n",
              "<p>1217 rows × 1 columns</p>\n",
              "</div>\n",
              "      <button class=\"colab-df-convert\" onclick=\"convertToInteractive('df-430369d3-92cc-4a90-a921-80b538c85c69')\"\n",
              "              title=\"Convert this dataframe to an interactive table.\"\n",
              "              style=\"display:none;\">\n",
              "        \n",
              "  <svg xmlns=\"http://www.w3.org/2000/svg\" height=\"24px\"viewBox=\"0 0 24 24\"\n",
              "       width=\"24px\">\n",
              "    <path d=\"M0 0h24v24H0V0z\" fill=\"none\"/>\n",
              "    <path d=\"M18.56 5.44l.94 2.06.94-2.06 2.06-.94-2.06-.94-.94-2.06-.94 2.06-2.06.94zm-11 1L8.5 8.5l.94-2.06 2.06-.94-2.06-.94L8.5 2.5l-.94 2.06-2.06.94zm10 10l.94 2.06.94-2.06 2.06-.94-2.06-.94-.94-2.06-.94 2.06-2.06.94z\"/><path d=\"M17.41 7.96l-1.37-1.37c-.4-.4-.92-.59-1.43-.59-.52 0-1.04.2-1.43.59L10.3 9.45l-7.72 7.72c-.78.78-.78 2.05 0 2.83L4 21.41c.39.39.9.59 1.41.59.51 0 1.02-.2 1.41-.59l7.78-7.78 2.81-2.81c.8-.78.8-2.07 0-2.86zM5.41 20L4 18.59l7.72-7.72 1.47 1.35L5.41 20z\"/>\n",
              "  </svg>\n",
              "      </button>\n",
              "      \n",
              "  <style>\n",
              "    .colab-df-container {\n",
              "      display:flex;\n",
              "      flex-wrap:wrap;\n",
              "      gap: 12px;\n",
              "    }\n",
              "\n",
              "    .colab-df-convert {\n",
              "      background-color: #E8F0FE;\n",
              "      border: none;\n",
              "      border-radius: 50%;\n",
              "      cursor: pointer;\n",
              "      display: none;\n",
              "      fill: #1967D2;\n",
              "      height: 32px;\n",
              "      padding: 0 0 0 0;\n",
              "      width: 32px;\n",
              "    }\n",
              "\n",
              "    .colab-df-convert:hover {\n",
              "      background-color: #E2EBFA;\n",
              "      box-shadow: 0px 1px 2px rgba(60, 64, 67, 0.3), 0px 1px 3px 1px rgba(60, 64, 67, 0.15);\n",
              "      fill: #174EA6;\n",
              "    }\n",
              "\n",
              "    [theme=dark] .colab-df-convert {\n",
              "      background-color: #3B4455;\n",
              "      fill: #D2E3FC;\n",
              "    }\n",
              "\n",
              "    [theme=dark] .colab-df-convert:hover {\n",
              "      background-color: #434B5C;\n",
              "      box-shadow: 0px 1px 3px 1px rgba(0, 0, 0, 0.15);\n",
              "      filter: drop-shadow(0px 1px 2px rgba(0, 0, 0, 0.3));\n",
              "      fill: #FFFFFF;\n",
              "    }\n",
              "  </style>\n",
              "\n",
              "      <script>\n",
              "        const buttonEl =\n",
              "          document.querySelector('#df-430369d3-92cc-4a90-a921-80b538c85c69 button.colab-df-convert');\n",
              "        buttonEl.style.display =\n",
              "          google.colab.kernel.accessAllowed ? 'block' : 'none';\n",
              "\n",
              "        async function convertToInteractive(key) {\n",
              "          const element = document.querySelector('#df-430369d3-92cc-4a90-a921-80b538c85c69');\n",
              "          const dataTable =\n",
              "            await google.colab.kernel.invokeFunction('convertToInteractive',\n",
              "                                                     [key], {});\n",
              "          if (!dataTable) return;\n",
              "\n",
              "          const docLinkHtml = 'Like what you see? Visit the ' +\n",
              "            '<a target=\"_blank\" href=https://colab.research.google.com/notebooks/data_table.ipynb>data table notebook</a>'\n",
              "            + ' to learn more about interactive tables.';\n",
              "          element.innerHTML = '';\n",
              "          dataTable['output_type'] = 'display_data';\n",
              "          await google.colab.output.renderOutput(dataTable, element);\n",
              "          const docLink = document.createElement('div');\n",
              "          docLink.innerHTML = docLinkHtml;\n",
              "          element.appendChild(docLink);\n",
              "        }\n",
              "      </script>\n",
              "    </div>\n",
              "  </div>\n",
              "  "
            ]
          },
          "metadata": {},
          "execution_count": 5
        }
      ]
    },
    {
      "cell_type": "code",
      "source": [
        "y = new_target.values.ravel()"
      ],
      "metadata": {
        "id": "eqy2D1ntsRiM"
      },
      "execution_count": 6,
      "outputs": []
    },
    {
      "cell_type": "code",
      "source": [
        "x = df.iloc[:,0:13]"
      ],
      "metadata": {
        "id": "oohJoUUlt0Ek"
      },
      "execution_count": 7,
      "outputs": []
    },
    {
      "cell_type": "markdown",
      "source": [
        "Standardize training variables"
      ],
      "metadata": {
        "id": "8LcIGHQEy4Tt"
      }
    },
    {
      "cell_type": "code",
      "source": [
        "ZX= preprocessing.scale(x)\n",
        "x = pd.DataFrame(ZX)\n",
        "print(x, '\\n')\n",
        "print(x.mean(axis=0), \n",
        "x.std(axis=0))"
      ],
      "metadata": {
        "colab": {
          "base_uri": "https://localhost:8080/"
        },
        "id": "y7I8BC9Dt3yE",
        "outputId": "d089c924-c1ba-4ab5-8646-da409ac618a2"
      },
      "execution_count": 8,
      "outputs": [
        {
          "output_type": "stream",
          "name": "stdout",
          "text": [
            "            0         1         2         3         4         5         6   \\\n",
            "0     0.159528 -1.802006 -1.208134  0.114420 -0.135689  0.538311 -1.587426   \n",
            "1    -0.939212 -1.809877  0.424363 -0.933511 -0.817247  0.019258  1.500586   \n",
            "2     0.410247 -1.673790  0.555385  0.200447  0.134019  0.501621  1.684134   \n",
            "3    -0.548385 -1.617137  1.879947 -1.059096  0.939523 -6.206504  1.253012   \n",
            "4     0.181650 -1.525316  2.335905  0.578476 -0.417798  0.681969 -1.048779   \n",
            "...        ...       ...       ...       ...       ...       ...       ...   \n",
            "1212  0.115283  1.480684  0.036132  0.252878  0.049329  0.537678  0.250896   \n",
            "1213  0.941181  1.528803 -1.156399  1.554010 -0.075675  0.729753  1.142193   \n",
            "1214 -0.762234  1.588181 -0.028590 -0.555628 -0.315562  0.213238 -0.491114   \n",
            "1215  0.166902  1.629782  0.170750  1.050082 -0.201979  0.705453  1.445251   \n",
            "1216 -0.835975  1.603325  0.383793 -1.040983 -0.235315 -1.213681  0.364560   \n",
            "\n",
            "            7         8         9         10        11        12  \n",
            "0     0.135833  0.233292  0.329626  0.345115  0.652891 -0.006913  \n",
            "1    -0.909580  0.233292 -1.221986  0.707287  0.843750 -0.814113  \n",
            "2     0.374384  0.233292  0.598252 -0.191898  0.555039  0.208756  \n",
            "3    -0.537722  0.233292 -0.567479  0.896626  1.082702 -0.719501  \n",
            "4     0.156881  0.233292  0.354121 -0.402387 -1.404271  0.228457  \n",
            "...        ...       ...       ...       ...       ...       ...  \n",
            "1212  0.093736  0.233292  0.280134 -1.142965 -0.491097  0.403063  \n",
            "1213  0.879550  0.233292  1.113556 -1.427815 -1.702917  1.076351  \n",
            "1214 -0.741192  0.233292 -0.903431 -1.563216 -0.567787 -0.235784  \n",
            "1215  0.142849  0.233292  0.337809 -1.851643 -1.402317  0.691448  \n",
            "1216 -0.811354  0.233292 -1.030740  1.532912  1.698309 -0.956020  \n",
            "\n",
            "[1217 rows x 13 columns] \n",
            "\n",
            "0     4.086934e-17\n",
            "1     7.006173e-17\n",
            "2    -8.757717e-17\n",
            "3     1.284465e-16\n",
            "4    -1.080118e-16\n",
            "5     1.495380e-15\n",
            "6     8.757717e-18\n",
            "7     5.838478e-17\n",
            "8    -6.422325e-17\n",
            "9     5.196245e-16\n",
            "10   -5.254630e-16\n",
            "11    1.167696e-17\n",
            "12   -5.838478e-17\n",
            "dtype: float64 0     1.000411\n",
            "1     1.000411\n",
            "2     1.000411\n",
            "3     1.000411\n",
            "4     1.000411\n",
            "5     1.000411\n",
            "6     1.000411\n",
            "7     1.000411\n",
            "8     1.000411\n",
            "9     1.000411\n",
            "10    1.000411\n",
            "11    1.000411\n",
            "12    1.000411\n",
            "dtype: float64\n"
          ]
        }
      ]
    },
    {
      "cell_type": "markdown",
      "source": [
        "1. Train a neural network using **ALL** the records in the dataset to perform a \n",
        "two-class classification."
      ],
      "metadata": {
        "id": "xEPzboO-zFf-"
      }
    },
    {
      "cell_type": "code",
      "source": [
        "model_1 = Sequential()\n",
        "model_1.add(Dense(units = 11, input_dim=13, activation = 'relu', name = 'h1'))\n",
        "model_1.add(Dense(units = 7, activation = 'relu', name = 'h2'))\n",
        "model_1.add(Dense(units = 4, activation = 'relu', name = 'h3'))\n",
        "model_1.add(Dense(units = 2, activation = 'softmax')) "
      ],
      "metadata": {
        "id": "VXHEwwWduB3k"
      },
      "execution_count": 9,
      "outputs": []
    },
    {
      "cell_type": "code",
      "source": [
        "y_cat = utils.to_categorical(y,2)"
      ],
      "metadata": {
        "id": "B4z4_rDLzhZp"
      },
      "execution_count": 10,
      "outputs": []
    },
    {
      "cell_type": "code",
      "source": [
        "model_1.compile(loss='binary_crossentropy', optimizer ='Adam', metrics=['accuracy']) \n",
        "model_1.fit(x, y_cat, epochs=50, validation_split=.33, batch_size=4, verbose=1) "
      ],
      "metadata": {
        "colab": {
          "base_uri": "https://localhost:8080/"
        },
        "id": "gQdKbC4VzvVX",
        "outputId": "8d767d5b-8a88-4fef-a227-7fa04e16e26e"
      },
      "execution_count": 11,
      "outputs": [
        {
          "output_type": "stream",
          "name": "stdout",
          "text": [
            "Epoch 1/50\n",
            "204/204 [==============================] - 2s 7ms/step - loss: 0.6491 - accuracy: 0.7816 - val_loss: 0.5573 - val_accuracy: 0.8483\n",
            "Epoch 2/50\n",
            "204/204 [==============================] - 1s 5ms/step - loss: 0.3802 - accuracy: 0.8294 - val_loss: 0.3181 - val_accuracy: 0.8483\n",
            "Epoch 3/50\n",
            "204/204 [==============================] - 1s 6ms/step - loss: 0.2666 - accuracy: 0.8294 - val_loss: 0.2828 - val_accuracy: 0.8483\n",
            "Epoch 4/50\n",
            "204/204 [==============================] - 1s 6ms/step - loss: 0.2414 - accuracy: 0.8294 - val_loss: 0.2714 - val_accuracy: 0.8483\n",
            "Epoch 5/50\n",
            "204/204 [==============================] - 1s 5ms/step - loss: 0.2245 - accuracy: 0.8294 - val_loss: 0.2601 - val_accuracy: 0.8483\n",
            "Epoch 6/50\n",
            "204/204 [==============================] - 1s 5ms/step - loss: 0.2105 - accuracy: 0.8294 - val_loss: 0.2554 - val_accuracy: 0.8483\n",
            "Epoch 7/50\n",
            "204/204 [==============================] - 1s 6ms/step - loss: 0.2008 - accuracy: 0.8883 - val_loss: 0.2554 - val_accuracy: 0.8607\n",
            "Epoch 8/50\n",
            "204/204 [==============================] - 1s 6ms/step - loss: 0.1899 - accuracy: 0.9325 - val_loss: 0.2494 - val_accuracy: 0.8731\n",
            "Epoch 9/50\n",
            "204/204 [==============================] - 1s 5ms/step - loss: 0.1848 - accuracy: 0.9362 - val_loss: 0.2507 - val_accuracy: 0.8632\n",
            "Epoch 10/50\n",
            "204/204 [==============================] - 1s 6ms/step - loss: 0.1763 - accuracy: 0.9485 - val_loss: 0.2474 - val_accuracy: 0.8582\n",
            "Epoch 11/50\n",
            "204/204 [==============================] - 1s 5ms/step - loss: 0.1699 - accuracy: 0.9448 - val_loss: 0.2472 - val_accuracy: 0.8582\n",
            "Epoch 12/50\n",
            "204/204 [==============================] - 1s 5ms/step - loss: 0.1662 - accuracy: 0.9485 - val_loss: 0.2497 - val_accuracy: 0.8657\n",
            "Epoch 13/50\n",
            "204/204 [==============================] - 1s 6ms/step - loss: 0.1590 - accuracy: 0.9485 - val_loss: 0.2483 - val_accuracy: 0.8607\n",
            "Epoch 14/50\n",
            "204/204 [==============================] - 1s 3ms/step - loss: 0.1561 - accuracy: 0.9497 - val_loss: 0.2502 - val_accuracy: 0.8632\n",
            "Epoch 15/50\n",
            "204/204 [==============================] - 1s 2ms/step - loss: 0.1503 - accuracy: 0.9546 - val_loss: 0.2529 - val_accuracy: 0.8632\n",
            "Epoch 16/50\n",
            "204/204 [==============================] - 1s 3ms/step - loss: 0.1470 - accuracy: 0.9485 - val_loss: 0.2546 - val_accuracy: 0.8607\n",
            "Epoch 17/50\n",
            "204/204 [==============================] - 1s 3ms/step - loss: 0.1411 - accuracy: 0.9558 - val_loss: 0.2522 - val_accuracy: 0.8607\n",
            "Epoch 18/50\n",
            "204/204 [==============================] - 1s 3ms/step - loss: 0.1410 - accuracy: 0.9534 - val_loss: 0.2596 - val_accuracy: 0.8582\n",
            "Epoch 19/50\n",
            "204/204 [==============================] - 1s 3ms/step - loss: 0.1355 - accuracy: 0.9509 - val_loss: 0.2565 - val_accuracy: 0.8657\n",
            "Epoch 20/50\n",
            "204/204 [==============================] - 1s 3ms/step - loss: 0.1316 - accuracy: 0.9546 - val_loss: 0.2581 - val_accuracy: 0.8582\n",
            "Epoch 21/50\n",
            "204/204 [==============================] - 1s 3ms/step - loss: 0.1294 - accuracy: 0.9546 - val_loss: 0.2606 - val_accuracy: 0.8607\n",
            "Epoch 22/50\n",
            "204/204 [==============================] - 0s 2ms/step - loss: 0.1254 - accuracy: 0.9521 - val_loss: 0.2629 - val_accuracy: 0.8632\n",
            "Epoch 23/50\n",
            "204/204 [==============================] - 1s 3ms/step - loss: 0.1242 - accuracy: 0.9571 - val_loss: 0.2642 - val_accuracy: 0.8607\n",
            "Epoch 24/50\n",
            "204/204 [==============================] - 1s 2ms/step - loss: 0.1206 - accuracy: 0.9558 - val_loss: 0.2681 - val_accuracy: 0.8557\n",
            "Epoch 25/50\n",
            "204/204 [==============================] - 1s 3ms/step - loss: 0.1180 - accuracy: 0.9595 - val_loss: 0.2690 - val_accuracy: 0.8632\n",
            "Epoch 26/50\n",
            "204/204 [==============================] - 1s 3ms/step - loss: 0.1161 - accuracy: 0.9546 - val_loss: 0.2740 - val_accuracy: 0.8582\n",
            "Epoch 27/50\n",
            "204/204 [==============================] - 1s 3ms/step - loss: 0.1136 - accuracy: 0.9583 - val_loss: 0.2736 - val_accuracy: 0.8632\n",
            "Epoch 28/50\n",
            "204/204 [==============================] - 1s 3ms/step - loss: 0.1120 - accuracy: 0.9595 - val_loss: 0.2758 - val_accuracy: 0.8607\n",
            "Epoch 29/50\n",
            "204/204 [==============================] - 1s 2ms/step - loss: 0.1110 - accuracy: 0.9620 - val_loss: 0.2827 - val_accuracy: 0.8557\n",
            "Epoch 30/50\n",
            "204/204 [==============================] - 1s 3ms/step - loss: 0.1088 - accuracy: 0.9595 - val_loss: 0.2862 - val_accuracy: 0.8607\n",
            "Epoch 31/50\n",
            "204/204 [==============================] - 1s 3ms/step - loss: 0.1063 - accuracy: 0.9571 - val_loss: 0.2942 - val_accuracy: 0.8433\n",
            "Epoch 32/50\n",
            "204/204 [==============================] - 1s 3ms/step - loss: 0.1054 - accuracy: 0.9620 - val_loss: 0.2827 - val_accuracy: 0.8632\n",
            "Epoch 33/50\n",
            "204/204 [==============================] - 1s 3ms/step - loss: 0.1043 - accuracy: 0.9620 - val_loss: 0.2976 - val_accuracy: 0.8557\n",
            "Epoch 34/50\n",
            "204/204 [==============================] - 1s 3ms/step - loss: 0.1033 - accuracy: 0.9681 - val_loss: 0.2934 - val_accuracy: 0.8607\n",
            "Epoch 35/50\n",
            "204/204 [==============================] - 1s 3ms/step - loss: 0.1026 - accuracy: 0.9644 - val_loss: 0.2977 - val_accuracy: 0.8582\n",
            "Epoch 36/50\n",
            "204/204 [==============================] - 0s 2ms/step - loss: 0.1004 - accuracy: 0.9644 - val_loss: 0.3010 - val_accuracy: 0.8582\n",
            "Epoch 37/50\n",
            "204/204 [==============================] - 1s 2ms/step - loss: 0.0989 - accuracy: 0.9656 - val_loss: 0.3012 - val_accuracy: 0.8557\n",
            "Epoch 38/50\n",
            "204/204 [==============================] - 1s 2ms/step - loss: 0.0986 - accuracy: 0.9632 - val_loss: 0.3095 - val_accuracy: 0.8532\n",
            "Epoch 39/50\n",
            "204/204 [==============================] - 1s 3ms/step - loss: 0.0953 - accuracy: 0.9669 - val_loss: 0.3122 - val_accuracy: 0.8532\n",
            "Epoch 40/50\n",
            "204/204 [==============================] - 1s 2ms/step - loss: 0.0955 - accuracy: 0.9681 - val_loss: 0.3109 - val_accuracy: 0.8582\n",
            "Epoch 41/50\n",
            "204/204 [==============================] - 1s 3ms/step - loss: 0.0936 - accuracy: 0.9669 - val_loss: 0.3124 - val_accuracy: 0.8557\n",
            "Epoch 42/50\n",
            "204/204 [==============================] - 1s 2ms/step - loss: 0.0924 - accuracy: 0.9693 - val_loss: 0.3101 - val_accuracy: 0.8532\n",
            "Epoch 43/50\n",
            "204/204 [==============================] - 1s 2ms/step - loss: 0.0938 - accuracy: 0.9632 - val_loss: 0.3223 - val_accuracy: 0.8507\n",
            "Epoch 44/50\n",
            "204/204 [==============================] - 1s 3ms/step - loss: 0.0898 - accuracy: 0.9656 - val_loss: 0.3158 - val_accuracy: 0.8557\n",
            "Epoch 45/50\n",
            "204/204 [==============================] - 1s 3ms/step - loss: 0.0920 - accuracy: 0.9681 - val_loss: 0.3263 - val_accuracy: 0.8532\n",
            "Epoch 46/50\n",
            "204/204 [==============================] - 1s 3ms/step - loss: 0.0878 - accuracy: 0.9706 - val_loss: 0.3292 - val_accuracy: 0.8532\n",
            "Epoch 47/50\n",
            "204/204 [==============================] - 1s 3ms/step - loss: 0.0874 - accuracy: 0.9681 - val_loss: 0.3169 - val_accuracy: 0.8557\n",
            "Epoch 48/50\n",
            "204/204 [==============================] - 1s 2ms/step - loss: 0.0864 - accuracy: 0.9681 - val_loss: 0.3396 - val_accuracy: 0.8483\n",
            "Epoch 49/50\n",
            "204/204 [==============================] - 1s 2ms/step - loss: 0.0872 - accuracy: 0.9681 - val_loss: 0.3336 - val_accuracy: 0.8532\n",
            "Epoch 50/50\n",
            "204/204 [==============================] - 1s 2ms/step - loss: 0.0852 - accuracy: 0.9656 - val_loss: 0.3368 - val_accuracy: 0.8507\n"
          ]
        },
        {
          "output_type": "execute_result",
          "data": {
            "text/plain": [
              "<keras.callbacks.History at 0x7ff3f8a06650>"
            ]
          },
          "metadata": {},
          "execution_count": 11
        }
      ]
    },
    {
      "cell_type": "markdown",
      "source": [
        "Print architectural layers of model"
      ],
      "metadata": {
        "id": "KbwMP_9fzWQU"
      }
    },
    {
      "cell_type": "code",
      "source": [
        "model_1.summary()"
      ],
      "metadata": {
        "colab": {
          "base_uri": "https://localhost:8080/"
        },
        "id": "My3NXjRCzVCd",
        "outputId": "eb47375e-0e0f-4700-ae83-bab9dc3e16d1"
      },
      "execution_count": 12,
      "outputs": [
        {
          "output_type": "stream",
          "name": "stdout",
          "text": [
            "Model: \"sequential\"\n",
            "_________________________________________________________________\n",
            " Layer (type)                Output Shape              Param #   \n",
            "=================================================================\n",
            " h1 (Dense)                  (None, 11)                154       \n",
            "                                                                 \n",
            " h2 (Dense)                  (None, 7)                 84        \n",
            "                                                                 \n",
            " h3 (Dense)                  (None, 4)                 32        \n",
            "                                                                 \n",
            " dense (Dense)               (None, 2)                 10        \n",
            "                                                                 \n",
            "=================================================================\n",
            "Total params: 280\n",
            "Trainable params: 280\n",
            "Non-trainable params: 0\n",
            "_________________________________________________________________\n"
          ]
        }
      ]
    },
    {
      "cell_type": "markdown",
      "source": [
        "Obtain overall accuracy score"
      ],
      "metadata": {
        "id": "RdT7reJ_zPTN"
      }
    },
    {
      "cell_type": "code",
      "source": [
        "accuracy_score = model_1.evaluate(x, y_cat)"
      ],
      "metadata": {
        "colab": {
          "base_uri": "https://localhost:8080/"
        },
        "id": "pJ8rnEMaZJ9-",
        "outputId": "9a4fadd5-1aed-473b-d56e-0a9312a30514"
      },
      "execution_count": 13,
      "outputs": [
        {
          "output_type": "stream",
          "name": "stdout",
          "text": [
            "39/39 [==============================] - 0s 2ms/step - loss: 0.1644 - accuracy: 0.9326\n"
          ]
        }
      ]
    },
    {
      "cell_type": "markdown",
      "source": [
        "Print classification report on training data"
      ],
      "metadata": {
        "id": "wHEhyHMez0nr"
      }
    },
    {
      "cell_type": "code",
      "source": [
        "y_pred_prob = model_1.predict(x)\n",
        "y_pred_class = np.argmax(y_pred_prob, axis = 1) # put some logic on max numpy function argmax\n",
        "y_pred_class = utils.to_categorical(y_pred_class,2)\n",
        "print(classification_report(y_cat,y_pred_class))"
      ],
      "metadata": {
        "colab": {
          "base_uri": "https://localhost:8080/"
        },
        "id": "wm1Xg2liOhQ3",
        "outputId": "fdc2667c-abbc-4351-8247-7203c5e89571"
      },
      "execution_count": 14,
      "outputs": [
        {
          "output_type": "stream",
          "name": "stdout",
          "text": [
            "              precision    recall  f1-score   support\n",
            "\n",
            "           0       0.98      0.94      0.96      1017\n",
            "           1       0.74      0.92      0.82       200\n",
            "\n",
            "   micro avg       0.93      0.93      0.93      1217\n",
            "   macro avg       0.86      0.93      0.89      1217\n",
            "weighted avg       0.94      0.93      0.94      1217\n",
            " samples avg       0.93      0.93      0.93      1217\n",
            "\n"
          ]
        }
      ]
    },
    {
      "cell_type": "markdown",
      "source": [
        "2. Extract the hidden representations (Z-Code) of **ALL** the records from the last \n",
        "layer (the layer right before the Softmax layer) of the trained neural network."
      ],
      "metadata": {
        "id": "GEPodiyHSi7M"
      }
    },
    {
      "cell_type": "code",
      "source": [
        "model_2 = Model(inputs=model_1.input,\n",
        "                outputs = model_1.get_layer('h3').output)\n",
        "Z_code = model_2.predict(x)"
      ],
      "metadata": {
        "id": "R9d3ez13Nh_-"
      },
      "execution_count": 15,
      "outputs": []
    },
    {
      "cell_type": "markdown",
      "source": [
        "3. If the dimension of the Z-Code is greater than two dimensions, perform a t-sne \n",
        "compression to reduce the dimension to 2. "
      ],
      "metadata": {
        "id": "ZTl_cQuwSpFk"
      }
    },
    {
      "cell_type": "code",
      "source": [
        "tsne = TSNE(n_components=2, random_state=0)  \n",
        "tsne_z = tsne.fit_transform(Z_code)"
      ],
      "metadata": {
        "colab": {
          "base_uri": "https://localhost:8080/"
        },
        "id": "-Xp5IFLKR-qu",
        "outputId": "66b4d8f8-7221-45e6-e4fd-91090b6854d8"
      },
      "execution_count": 16,
      "outputs": [
        {
          "output_type": "stream",
          "name": "stderr",
          "text": [
            "/usr/local/lib/python3.7/dist-packages/sklearn/manifold/_t_sne.py:783: FutureWarning: The default initialization in TSNE will change from 'random' to 'pca' in 1.2.\n",
            "  FutureWarning,\n",
            "/usr/local/lib/python3.7/dist-packages/sklearn/manifold/_t_sne.py:793: FutureWarning: The default learning rate in TSNE will change from 200.0 to 'auto' in 1.2.\n",
            "  FutureWarning,\n"
          ]
        }
      ]
    },
    {
      "cell_type": "markdown",
      "source": [
        "4. Use t-sne compression results to reduce the dimensionality of the raw data from \n",
        "13 to 2. (Note: raw data = X that has been standardized = X that you input to your \n",
        "NN.) "
      ],
      "metadata": {
        "id": "EWp1clzDSuj4"
      }
    },
    {
      "cell_type": "code",
      "source": [
        "tsne_x = tsne.fit_transform(x)"
      ],
      "metadata": {
        "colab": {
          "base_uri": "https://localhost:8080/"
        },
        "id": "XjXYnDsYSToj",
        "outputId": "ef294b92-0cb3-46ae-b2e0-32211beccc10"
      },
      "execution_count": 17,
      "outputs": [
        {
          "output_type": "stream",
          "name": "stderr",
          "text": [
            "/usr/local/lib/python3.7/dist-packages/sklearn/manifold/_t_sne.py:783: FutureWarning: The default initialization in TSNE will change from 'random' to 'pca' in 1.2.\n",
            "  FutureWarning,\n",
            "/usr/local/lib/python3.7/dist-packages/sklearn/manifold/_t_sne.py:793: FutureWarning: The default learning rate in TSNE will change from 200.0 to 'auto' in 1.2.\n",
            "  FutureWarning,\n"
          ]
        }
      ]
    },
    {
      "cell_type": "markdown",
      "source": [
        "5. Create two group plots: the one on the left contains points you obtained in step 4, \n",
        "and the one on the right contains points you obtained in step 3. Please make sure \n",
        "that you use two colors to represent the classes of the data points in each plot. \n",
        "Please see our slides for the example plots. "
      ],
      "metadata": {
        "id": "ct4bgPR2S8dX"
      }
    },
    {
      "cell_type": "code",
      "source": [
        "x1,y1=tsne_z[:,0],tsne_z[:,1] \n",
        "x2,y2=tsne_x[:,0],tsne_x[:,1]\n",
        "f, axes = plt.subplots(1, 2, figsize=(12,4))\n",
        "palette = sns.color_palette(\"bright\", 2) \n",
        "sns.scatterplot(x1, y1, palette=palette, hue = y, legend='full',ax=axes[1]).set(title = 'tsne Z-code') \n",
        "sns.scatterplot(x2, y2, palette=palette, hue = y, legend='full',ax=axes[0]).set(title = 'tsne x')"
      ],
      "metadata": {
        "colab": {
          "base_uri": "https://localhost:8080/",
          "height": 388
        },
        "id": "V9NwM2zeS2qa",
        "outputId": "35a25069-f7bb-4f8d-ee50-4f62d15ca612"
      },
      "execution_count": 18,
      "outputs": [
        {
          "output_type": "stream",
          "name": "stderr",
          "text": [
            "/usr/local/lib/python3.7/dist-packages/seaborn/_decorators.py:43: FutureWarning: Pass the following variables as keyword args: x, y. From version 0.12, the only valid positional argument will be `data`, and passing other arguments without an explicit keyword will result in an error or misinterpretation.\n",
            "  FutureWarning\n",
            "/usr/local/lib/python3.7/dist-packages/seaborn/_decorators.py:43: FutureWarning: Pass the following variables as keyword args: x, y. From version 0.12, the only valid positional argument will be `data`, and passing other arguments without an explicit keyword will result in an error or misinterpretation.\n",
            "  FutureWarning\n"
          ]
        },
        {
          "output_type": "execute_result",
          "data": {
            "text/plain": [
              "[Text(0.5, 1.0, 'tsne x')]"
            ]
          },
          "metadata": {},
          "execution_count": 18
        },
        {
          "output_type": "display_data",
          "data": {
            "text/plain": [
              "<Figure size 864x288 with 2 Axes>"
            ],
            "image/png": "[encoded data removed]"
          },
          "metadata": {
            "needs_background": "light"
          }
        }
      ]
    },
    {
      "cell_type": "code",
      "source": [],
      "metadata": {
        "id": "cDSvcea1TSaI"
      },
      "execution_count": 18,
      "outputs": []
    }
  ]
}