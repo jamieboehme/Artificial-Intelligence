{
  "nbformat": 4,
  "nbformat_minor": 0,
  "metadata": {
    "colab": {
      "provenance": [],
      "collapsed_sections": []
    },
    "kernelspec": {
      "name": "python3",
      "display_name": "Python 3"
    },
    "language_info": {
      "name": "python"
    }
  },
  "cells": [
    {
      "cell_type": "markdown",
      "source": [
        "## SEIS 764-01 Assignment 7\n",
        "**Jamie Boehme**"
      ],
      "metadata": {
        "id": "jaPN-cQzBF3i"
      }
    },
    {
      "cell_type": "markdown",
      "source": [
        "Import libraries for processing"
      ],
      "metadata": {
        "id": "bqW3qiGJBHKX"
      }
    },
    {
      "cell_type": "code",
      "source": [
        "from tensorflow import keras\n",
        "from tensorflow.keras.models import Sequential, Model\n",
        "from tensorflow.keras.layers import Dense, Activation, Dropout, Flatten, MaxPooling2D, BatchNormalization\n",
        "from tensorflow.keras.layers import Conv2D\n",
        "from tensorflow.keras.optimizers import SGD\n",
        "from keras.preprocessing.image import ImageDataGenerator\n",
        "from tensorflow.keras import utils\n",
        "import pandas as pd\n",
        "import numpy as np\n",
        "from sklearn import preprocessing\n",
        "from sklearn.model_selection import train_test_split\n",
        "from sklearn.metrics import accuracy_score, classification_report, confusion_matrix, accuracy_score\n",
        "import matplotlib.pyplot as plt"
      ],
      "metadata": {
        "id": "i_NxcYkkBGxo"
      },
      "execution_count": 38,
      "outputs": []
    },
    {
      "cell_type": "markdown",
      "source": [
        "Read data from google colab drive"
      ],
      "metadata": {
        "id": "PlCqaTt2BPqu"
      }
    },
    {
      "cell_type": "code",
      "source": [
        "from google.colab import drive\n",
        "drive.mount('/content/drive')\n",
        "data_path = \"/content/drive/My Drive/Colab Notebooks/Iris_Imgs\""
      ],
      "metadata": {
        "colab": {
          "base_uri": "https://localhost:8080/"
        },
        "id": "MhxMyDsQDdFi",
        "outputId": "86c3d38f-f118-48e7-83c0-5ed3a8d4e3c9"
      },
      "execution_count": 39,
      "outputs": [
        {
          "output_type": "stream",
          "name": "stdout",
          "text": [
            "Drive already mounted at /content/drive; to attempt to forcibly remount, call drive.mount(\"/content/drive\", force_remount=True).\n"
          ]
        }
      ]
    },
    {
      "cell_type": "code",
      "source": [
        "batch_size = 10\n",
        "\n",
        "data = ImageDataGenerator(rescale=1. / 255, \n",
        "                          validation_split=0.2)\n",
        "\n",
        "training_data = data.flow_from_directory('/content/drive/My Drive/Colab Notebooks/Iris_Imgs', \n",
        "                                         target_size=(200, 200), shuffle=True, batch_size = batch_size, \n",
        "                                         class_mode='categorical', subset='training')\n",
        "\n",
        "training_data_noshuffle = data.flow_from_directory('/content/drive/My Drive/Colab Notebooks/Iris_Imgs', \n",
        "                                         target_size=(200, 200), shuffle=False, batch_size = batch_size, \n",
        "                                         class_mode='categorical', subset='training')\n",
        "\n",
        "test_data = data.flow_from_directory('/content/drive/My Drive/Colab Notebooks/Iris_Imgs', \n",
        "                                     target_size=(200, 200), batch_size = batch_size, shuffle=False,\n",
        "                                     class_mode='categorical', subset='validation')\n",
        "\n",
        "numClasses = 3"
      ],
      "metadata": {
        "colab": {
          "base_uri": "https://localhost:8080/"
        },
        "id": "Qe0jUCxhBJWn",
        "outputId": "2357157f-904b-4fa4-9e30-b01133603089"
      },
      "execution_count": 40,
      "outputs": [
        {
          "output_type": "stream",
          "name": "stdout",
          "text": [
            "Found 120 images belonging to 3 classes.\n",
            "Found 120 images belonging to 3 classes.\n",
            "Found 30 images belonging to 3 classes.\n"
          ]
        }
      ]
    },
    {
      "cell_type": "markdown",
      "source": [
        "2. Build CNN model to classify Iris images into 3 classes (setosa, versicolor, virginica) using CNN with at least TWO convolution layers"
      ],
      "metadata": {
        "id": "nMnhpzm7Ln-X"
      }
    },
    {
      "cell_type": "code",
      "source": [
        "Classifier=Sequential()\n",
        "Classifier.add(Conv2D(16, kernel_size=(5, 5), input_shape=(200, 200, 3)))\n",
        "Classifier.add(Activation('relu'))\n",
        "Classifier.add(MaxPooling2D(pool_size=(2,2)))\n",
        "               \n",
        "Classifier.add(Conv2D(32, kernel_size=(3, 3)))\n",
        "Classifier.add(BatchNormalization())\n",
        "Classifier.add(Activation('relu'))\n",
        "Classifier.add(MaxPooling2D(pool_size=(2,2)))\n",
        "\n",
        "Classifier.add(Conv2D(64, kernel_size=(3, 3)))\n",
        "Classifier.add(BatchNormalization())\n",
        "Classifier.add(Activation('relu'))\n",
        "Classifier.add(MaxPooling2D(pool_size=(2,2)))\n",
        "Classifier.add(Dropout(0.2))\n",
        "\n",
        "Classifier.add(Flatten())\n",
        "\n",
        "Classifier.add(Dense(64, activation='relu'))\n",
        "Classifier.add(Dense(32, activation='relu'))\n",
        "Classifier.add(Dense(16, activation='relu'))\n",
        "Classifier.add(Dense(8, activation='relu'))\n",
        "Classifier.add(Dense(numClasses, activation='softmax'))"
      ],
      "metadata": {
        "id": "Tiz_ylGaBmQA"
      },
      "execution_count": 41,
      "outputs": []
    },
    {
      "cell_type": "code",
      "source": [
        "# More options in Compiling and Training CNN\n",
        "MyEpochs = 30\n",
        "opt = SGD(learning_rate=0.01, momentum=0.9)\n",
        "\n",
        "Classifier.compile(loss=keras.losses.categorical_crossentropy,\n",
        "              optimizer=opt, \n",
        "              metrics=['accuracy']) \n",
        "\n",
        "Classifier.fit(training_data,\n",
        "                        batch_size = 10,\n",
        "                        epochs = MyEpochs,\n",
        "                        validation_data=test_data,\n",
        "                        shuffle = 1,\n",
        "                        verbose=0)"
      ],
      "metadata": {
        "id": "yVwlZJlCGFGj"
      },
      "execution_count": null,
      "outputs": []
    },
    {
      "cell_type": "markdown",
      "source": [
        "3. Print the configurations (i.e. architecture) of all the layers in your CNN"
      ],
      "metadata": {
        "id": "X05ryQx1MEC5"
      }
    },
    {
      "cell_type": "code",
      "source": [
        "Classifier.summary()"
      ],
      "metadata": {
        "colab": {
          "base_uri": "https://localhost:8080/"
        },
        "id": "XE2FMbroGoz_",
        "outputId": "a667107b-d684-4791-a434-27a50f408ab9"
      },
      "execution_count": 43,
      "outputs": [
        {
          "output_type": "stream",
          "name": "stdout",
          "text": [
            "Model: \"sequential_3\"\n",
            "_________________________________________________________________\n",
            " Layer (type)                Output Shape              Param #   \n",
            "=================================================================\n",
            " conv2d_6 (Conv2D)           (None, 196, 196, 16)      1216      \n",
            "                                                                 \n",
            " activation_6 (Activation)   (None, 196, 196, 16)      0         \n",
            "                                                                 \n",
            " max_pooling2d_6 (MaxPooling  (None, 98, 98, 16)       0         \n",
            " 2D)                                                             \n",
            "                                                                 \n",
            " conv2d_7 (Conv2D)           (None, 96, 96, 32)        4640      \n",
            "                                                                 \n",
            " batch_normalization_4 (Batc  (None, 96, 96, 32)       128       \n",
            " hNormalization)                                                 \n",
            "                                                                 \n",
            " activation_7 (Activation)   (None, 96, 96, 32)        0         \n",
            "                                                                 \n",
            " max_pooling2d_7 (MaxPooling  (None, 48, 48, 32)       0         \n",
            " 2D)                                                             \n",
            "                                                                 \n",
            " conv2d_8 (Conv2D)           (None, 46, 46, 64)        18496     \n",
            "                                                                 \n",
            " batch_normalization_5 (Batc  (None, 46, 46, 64)       256       \n",
            " hNormalization)                                                 \n",
            "                                                                 \n",
            " activation_8 (Activation)   (None, 46, 46, 64)        0         \n",
            "                                                                 \n",
            " max_pooling2d_8 (MaxPooling  (None, 23, 23, 64)       0         \n",
            " 2D)                                                             \n",
            "                                                                 \n",
            " dropout_5 (Dropout)         (None, 23, 23, 64)        0         \n",
            "                                                                 \n",
            " flatten_2 (Flatten)         (None, 33856)             0         \n",
            "                                                                 \n",
            " dense_10 (Dense)            (None, 64)                2166848   \n",
            "                                                                 \n",
            " dense_11 (Dense)            (None, 32)                2080      \n",
            "                                                                 \n",
            " dense_12 (Dense)            (None, 16)                528       \n",
            "                                                                 \n",
            " dense_13 (Dense)            (None, 8)                 136       \n",
            "                                                                 \n",
            " dense_14 (Dense)            (None, 3)                 27        \n",
            "                                                                 \n",
            "=================================================================\n",
            "Total params: 2,194,355\n",
            "Trainable params: 2,194,163\n",
            "Non-trainable params: 192\n",
            "_________________________________________________________________\n"
          ]
        }
      ]
    },
    {
      "cell_type": "markdown",
      "source": [
        "4. Print the confusion matrix of your classification result, and what is the accuracy of classification result. The results shown below is of **Train Data**"
      ],
      "metadata": {
        "id": "x1upj-9XMOMw"
      }
    },
    {
      "cell_type": "code",
      "source": [
        "training_data.reset()\n",
        "test_data.reset()\n",
        "\n",
        "predicted_scores = Classifier.predict(training_data_noshuffle, verbose=1)\n",
        "predicted_labels = predicted_scores.argmax(axis=1) \n",
        "\n",
        "train_labels = training_data_noshuffle.labels\n",
        "\n",
        "acc_score = accuracy_score(train_labels, predicted_labels)\n",
        "CFM = confusion_matrix(train_labels, predicted_labels)\n",
        "\n",
        "print(\"\\n\", \"Accuracy: \" + str(format(acc_score,'.3f')))\n",
        "print(\"\\n\", \"CFM: \\n\", confusion_matrix(train_labels, predicted_labels))\n",
        "print(\"\\n\", \"Classification report: \\n\", classification_report(train_labels, predicted_labels))"
      ],
      "metadata": {
        "colab": {
          "base_uri": "https://localhost:8080/"
        },
        "id": "MiEKM2kiJBH0",
        "outputId": "fb4cd7ab-599e-4a33-e3d1-6867150f13a7"
      },
      "execution_count": 44,
      "outputs": [
        {
          "output_type": "stream",
          "name": "stdout",
          "text": [
            "12/12 [==============================] - 2s 169ms/step\n",
            "\n",
            " Accuracy: 0.942\n",
            "\n",
            " CFM: \n",
            " [[35  5  0]\n",
            " [ 0 40  0]\n",
            " [ 0  2 38]]\n",
            "\n",
            " Classification report: \n",
            "               precision    recall  f1-score   support\n",
            "\n",
            "           0       1.00      0.88      0.93        40\n",
            "           1       0.85      1.00      0.92        40\n",
            "           2       1.00      0.95      0.97        40\n",
            "\n",
            "    accuracy                           0.94       120\n",
            "   macro avg       0.95      0.94      0.94       120\n",
            "weighted avg       0.95      0.94      0.94       120\n",
            "\n"
          ]
        }
      ]
    },
    {
      "cell_type": "markdown",
      "source": [
        "4. Print the confusion matrix of your classification result, and what is the accuracy of classification result. The results shown below is of **Test Data**"
      ],
      "metadata": {
        "id": "vt7ZHlGBMXgw"
      }
    },
    {
      "cell_type": "code",
      "source": [
        "predicted_scores = Classifier.predict(test_data, verbose=1)\n",
        "predicted_labels = predicted_scores.argmax(axis=1) \n",
        "\n",
        "test_labels = test_data.labels\n",
        "\n",
        "acc_score = accuracy_score(test_labels, predicted_labels)\n",
        "CFM = confusion_matrix(test_labels, predicted_labels)\n",
        "\n",
        "print(\"\\n\", \"Accuracy: \" + str(format(acc_score,'.3f')))\n",
        "print(\"\\n\", \"CFM: \\n\", confusion_matrix(test_labels, predicted_labels))\n",
        "print(\"\\n\", \"Classification report: \\n\", classification_report(test_labels, predicted_labels))\n"
      ],
      "metadata": {
        "colab": {
          "base_uri": "https://localhost:8080/"
        },
        "id": "AGqpTXebJdul",
        "outputId": "12d342eb-159d-4d44-c154-8283fc1800f1"
      },
      "execution_count": 45,
      "outputs": [
        {
          "output_type": "stream",
          "name": "stdout",
          "text": [
            "3/3 [==============================] - 1s 161ms/step\n",
            "\n",
            " Accuracy: 0.967\n",
            "\n",
            " CFM: \n",
            " [[10  0  0]\n",
            " [ 0 10  0]\n",
            " [ 0  1  9]]\n",
            "\n",
            " Classification report: \n",
            "               precision    recall  f1-score   support\n",
            "\n",
            "           0       1.00      1.00      1.00        10\n",
            "           1       0.91      1.00      0.95        10\n",
            "           2       1.00      0.90      0.95        10\n",
            "\n",
            "    accuracy                           0.97        30\n",
            "   macro avg       0.97      0.97      0.97        30\n",
            "weighted avg       0.97      0.97      0.97        30\n",
            "\n"
          ]
        }
      ]
    },
    {
      "cell_type": "code",
      "source": [
        "matrix=sns.heatmap(CFM, linewidths=1,vmax=1000,\n",
        "                  square=True, cmap=\"Blues\",annot=True)\n",
        "accuracy_score=accuracy_score(test_labels, predicted_labels)\n",
        "print('test dataset accuracy:',accuracy_score)"
      ],
      "metadata": {
        "colab": {
          "base_uri": "https://localhost:8080/",
          "height": 286
        },
        "id": "5C3sGgmIJ67m",
        "outputId": "3a47bda4-ab7d-4f0e-bff7-9c680851ad1b"
      },
      "execution_count": 46,
      "outputs": [
        {
          "output_type": "stream",
          "name": "stdout",
          "text": [
            "test dataset accuracy: 0.9666666666666667\n"
          ]
        },
        {
          "output_type": "display_data",
          "data": {
            "text/plain": [
              "<Figure size 432x288 with 2 Axes>"
            ],
            "image/png": "[encoded data removed]"
          },
          "metadata": {
            "needs_background": "light"
          }
        }
      ]
    },
    {
      "cell_type": "code",
      "source": [],
      "metadata": {
        "id": "M3-HjuJWKAjX"
      },
      "execution_count": 46,
      "outputs": []
    }
  ]
}