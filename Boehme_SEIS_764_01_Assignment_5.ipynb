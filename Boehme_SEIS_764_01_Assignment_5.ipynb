{
  "nbformat": 4,
  "nbformat_minor": 0,
  "metadata": {
    "colab": {
      "provenance": [],
      "collapsed_sections": []
    },
    "kernelspec": {
      "name": "python3",
      "display_name": "Python 3"
    },
    "language_info": {
      "name": "python"
    }
  },
  "cells": [
    {
      "cell_type": "markdown",
      "source": [
        "## SEIS 764-01 Assignment 5\n",
        "**Jamie Boehme**"
      ],
      "metadata": {
        "id": "QsnOA-_wyBJR"
      }
    },
    {
      "cell_type": "markdown",
      "source": [
        "Import libraries for processing."
      ],
      "metadata": {
        "id": "-mhPpWR8yPXi"
      }
    },
    {
      "cell_type": "code",
      "execution_count": 1,
      "metadata": {
        "id": "mplf9Sv6ZFl6"
      },
      "outputs": [],
      "source": [
        "from tensorflow.keras.models import Sequential, Model\n",
        "from tensorflow.keras.layers import Dense, Activation\n",
        "from tensorflow.keras.utils import to_categorical\n",
        "from tensorflow.keras.optimizers import SGD, Adam\n",
        "from tensorflow.keras import utils\n",
        "import pandas as pd\n",
        "import numpy as np\n",
        "from sklearn import preprocessing\n",
        "from sklearn.model_selection import train_test_split\n",
        "from sklearn.metrics import accuracy_score\n",
        "from sklearn.metrics import classification_report\n",
        "import matplotlib.pyplot as plt\n",
        "from sklearn.manifold import TSNE\n",
        "import seaborn as sns"
      ]
    },
    {
      "cell_type": "markdown",
      "source": [
        "Read in data from Github repo"
      ],
      "metadata": {
        "id": "rtfWJbJGyXVq"
      }
    },
    {
      "cell_type": "code",
      "source": [
        "url = 'https://raw.githubusercontent.com/jamieboehme/Artificial-Intelligence/main/CellDNA.csv'\n",
        "df = pd.read_csv(url, header=None)"
      ],
      "metadata": {
        "id": "nrFo1eWKZT6z"
      },
      "execution_count": 2,
      "outputs": []
    },
    {
      "cell_type": "markdown",
      "source": [
        "Do some quick exploration of the dataset"
      ],
      "metadata": {
        "id": "BL2PQWMyydnj"
      }
    },
    {
      "cell_type": "code",
      "source": [
        "df.columns = ['V1','V2','V3','V4','V5','V6','V7','V8','V9','V10','V11','V12','V13','Target']\n",
        "df.shape"
      ],
      "metadata": {
        "colab": {
          "base_uri": "https://localhost:8080/"
        },
        "id": "ZTqahtQjKtIR",
        "outputId": "517cace9-da85-4b08-ce2d-0b315173752d"
      },
      "execution_count": 3,
      "outputs": [
        {
          "output_type": "execute_result",
          "data": {
            "text/plain": [
              "(1217, 14)"
            ]
          },
          "metadata": {},
          "execution_count": 3
        }
      ]
    },
    {
      "cell_type": "markdown",
      "source": [
        "Transform target variable into those that are interesting (have values greater than 0) and those that are not interesting."
      ],
      "metadata": {
        "id": "xtU8Gyfgyhw9"
      }
    },
    {
      "cell_type": "code",
      "source": [
        "new_target = df.loc[:,'Target']\n",
        "new_target = pd.DataFrame(new_target)\n",
        "new_target.loc[new_target.Target > 0, 'Target'] = 1"
      ],
      "metadata": {
        "id": "jlmHTnV2bqfk"
      },
      "execution_count": 4,
      "outputs": []
    },
    {
      "cell_type": "code",
      "source": [
        "new_target"
      ],
      "metadata": {
        "colab": {
          "base_uri": "https://localhost:8080/",
          "height": 424
        },
        "id": "j8OHpQaCcDuf",
        "outputId": "54fd0137-16b1-4326-cd9b-1679e2f766c3"
      },
      "execution_count": 5,
      "outputs": [
        {
          "output_type": "execute_result",
          "data": {
            "text/plain": [
              "      Target\n",
              "0          0\n",
              "1          0\n",
              "2          0\n",
              "3          0\n",
              "4          1\n",
              "...      ...\n",
              "1212       0\n",
              "1213       1\n",
              "1214       0\n",
              "1215       0\n",
              "1216       0\n",
              "\n",
              "[1217 rows x 1 columns]"
            ],
            "text/html": [
              "\n",
              "  <div id=\"df-9abfa19f-1250-4787-9c70-cbe04fdfdc5a\">\n",
              "    <div class=\"colab-df-container\">\n",
              "      <div>\n",
              "<style scoped>\n",
              "    .dataframe tbody tr th:only-of-type {\n",
              "        vertical-align: middle;\n",
              "    }\n",
              "\n",
              "    .dataframe tbody tr th {\n",
              "        vertical-align: top;\n",
              "    }\n",
              "\n",
              "    .dataframe thead th {\n",
              "        text-align: right;\n",
              "    }\n",
              "</style>\n",
              "<table border=\"1\" class=\"dataframe\">\n",
              "  <thead>\n",
              "    <tr style=\"text-align: right;\">\n",
              "      <th></th>\n",
              "      <th>Target</th>\n",
              "    </tr>\n",
              "  </thead>\n",
              "  <tbody>\n",
              "    <tr>\n",
              "      <th>0</th>\n",
              "      <td>0</td>\n",
              "    </tr>\n",
              "    <tr>\n",
              "      <th>1</th>\n",
              "      <td>0</td>\n",
              "    </tr>\n",
              "    <tr>\n",
              "      <th>2</th>\n",
              "      <td>0</td>\n",
              "    </tr>\n",
              "    <tr>\n",
              "      <th>3</th>\n",
              "      <td>0</td>\n",
              "    </tr>\n",
              "    <tr>\n",
              "      <th>4</th>\n",
              "      <td>1</td>\n",
              "    </tr>\n",
              "    <tr>\n",
              "      <th>...</th>\n",
              "      <td>...</td>\n",
              "    </tr>\n",
              "    <tr>\n",
              "      <th>1212</th>\n",
              "      <td>0</td>\n",
              "    </tr>\n",
              "    <tr>\n",
              "      <th>1213</th>\n",
              "      <td>1</td>\n",
              "    </tr>\n",
              "    <tr>\n",
              "      <th>1214</th>\n",
              "      <td>0</td>\n",
              "    </tr>\n",
              "    <tr>\n",
              "      <th>1215</th>\n",
              "      <td>0</td>\n",
              "    </tr>\n",
              "    <tr>\n",
              "      <th>1216</th>\n",
              "      <td>0</td>\n",
              "    </tr>\n",
              "  </tbody>\n",
              "</table>\n",
              "<p>1217 rows × 1 columns</p>\n",
              "</div>\n",
              "      <button class=\"colab-df-convert\" onclick=\"convertToInteractive('df-9abfa19f-1250-4787-9c70-cbe04fdfdc5a')\"\n",
              "              title=\"Convert this dataframe to an interactive table.\"\n",
              "              style=\"display:none;\">\n",
              "        \n",
              "  <svg xmlns=\"http://www.w3.org/2000/svg\" height=\"24px\"viewBox=\"0 0 24 24\"\n",
              "       width=\"24px\">\n",
              "    <path d=\"M0 0h24v24H0V0z\" fill=\"none\"/>\n",
              "    <path d=\"M18.56 5.44l.94 2.06.94-2.06 2.06-.94-2.06-.94-.94-2.06-.94 2.06-2.06.94zm-11 1L8.5 8.5l.94-2.06 2.06-.94-2.06-.94L8.5 2.5l-.94 2.06-2.06.94zm10 10l.94 2.06.94-2.06 2.06-.94-2.06-.94-.94-2.06-.94 2.06-2.06.94z\"/><path d=\"M17.41 7.96l-1.37-1.37c-.4-.4-.92-.59-1.43-.59-.52 0-1.04.2-1.43.59L10.3 9.45l-7.72 7.72c-.78.78-.78 2.05 0 2.83L4 21.41c.39.39.9.59 1.41.59.51 0 1.02-.2 1.41-.59l7.78-7.78 2.81-2.81c.8-.78.8-2.07 0-2.86zM5.41 20L4 18.59l7.72-7.72 1.47 1.35L5.41 20z\"/>\n",
              "  </svg>\n",
              "      </button>\n",
              "      \n",
              "  <style>\n",
              "    .colab-df-container {\n",
              "      display:flex;\n",
              "      flex-wrap:wrap;\n",
              "      gap: 12px;\n",
              "    }\n",
              "\n",
              "    .colab-df-convert {\n",
              "      background-color: #E8F0FE;\n",
              "      border: none;\n",
              "      border-radius: 50%;\n",
              "      cursor: pointer;\n",
              "      display: none;\n",
              "      fill: #1967D2;\n",
              "      height: 32px;\n",
              "      padding: 0 0 0 0;\n",
              "      width: 32px;\n",
              "    }\n",
              "\n",
              "    .colab-df-convert:hover {\n",
              "      background-color: #E2EBFA;\n",
              "      box-shadow: 0px 1px 2px rgba(60, 64, 67, 0.3), 0px 1px 3px 1px rgba(60, 64, 67, 0.15);\n",
              "      fill: #174EA6;\n",
              "    }\n",
              "\n",
              "    [theme=dark] .colab-df-convert {\n",
              "      background-color: #3B4455;\n",
              "      fill: #D2E3FC;\n",
              "    }\n",
              "\n",
              "    [theme=dark] .colab-df-convert:hover {\n",
              "      background-color: #434B5C;\n",
              "      box-shadow: 0px 1px 3px 1px rgba(0, 0, 0, 0.15);\n",
              "      filter: drop-shadow(0px 1px 2px rgba(0, 0, 0, 0.3));\n",
              "      fill: #FFFFFF;\n",
              "    }\n",
              "  </style>\n",
              "\n",
              "      <script>\n",
              "        const buttonEl =\n",
              "          document.querySelector('#df-9abfa19f-1250-4787-9c70-cbe04fdfdc5a button.colab-df-convert');\n",
              "        buttonEl.style.display =\n",
              "          google.colab.kernel.accessAllowed ? 'block' : 'none';\n",
              "\n",
              "        async function convertToInteractive(key) {\n",
              "          const element = document.querySelector('#df-9abfa19f-1250-4787-9c70-cbe04fdfdc5a');\n",
              "          const dataTable =\n",
              "            await google.colab.kernel.invokeFunction('convertToInteractive',\n",
              "                                                     [key], {});\n",
              "          if (!dataTable) return;\n",
              "\n",
              "          const docLinkHtml = 'Like what you see? Visit the ' +\n",
              "            '<a target=\"_blank\" href=https://colab.research.google.com/notebooks/data_table.ipynb>data table notebook</a>'\n",
              "            + ' to learn more about interactive tables.';\n",
              "          element.innerHTML = '';\n",
              "          dataTable['output_type'] = 'display_data';\n",
              "          await google.colab.output.renderOutput(dataTable, element);\n",
              "          const docLink = document.createElement('div');\n",
              "          docLink.innerHTML = docLinkHtml;\n",
              "          element.appendChild(docLink);\n",
              "        }\n",
              "      </script>\n",
              "    </div>\n",
              "  </div>\n",
              "  "
            ]
          },
          "metadata": {},
          "execution_count": 5
        }
      ]
    },
    {
      "cell_type": "code",
      "source": [
        "y = new_target.values.ravel()"
      ],
      "metadata": {
        "id": "eqy2D1ntsRiM"
      },
      "execution_count": 6,
      "outputs": []
    },
    {
      "cell_type": "code",
      "source": [
        "x = df.iloc[:,0:13]"
      ],
      "metadata": {
        "id": "oohJoUUlt0Ek"
      },
      "execution_count": 7,
      "outputs": []
    },
    {
      "cell_type": "markdown",
      "source": [
        "Standardize training variables"
      ],
      "metadata": {
        "id": "8LcIGHQEy4Tt"
      }
    },
    {
      "cell_type": "code",
      "source": [
        "ZX= preprocessing.scale(x)\n",
        "x = pd.DataFrame(ZX)\n",
        "print(x, '\\n')\n",
        "print(x.mean(axis=0), \n",
        "x.std(axis=0))"
      ],
      "metadata": {
        "colab": {
          "base_uri": "https://localhost:8080/"
        },
        "id": "y7I8BC9Dt3yE",
        "outputId": "e68dbcf0-6ef1-4a43-a3f6-d6daeddc0024"
      },
      "execution_count": 8,
      "outputs": [
        {
          "output_type": "stream",
          "name": "stdout",
          "text": [
            "            0         1         2         3         4         5         6   \\\n",
            "0     0.159528 -1.802006 -1.208134  0.114420 -0.135689  0.538311 -1.587426   \n",
            "1    -0.939212 -1.809877  0.424363 -0.933511 -0.817247  0.019258  1.500586   \n",
            "2     0.410247 -1.673790  0.555385  0.200447  0.134019  0.501621  1.684134   \n",
            "3    -0.548385 -1.617137  1.879947 -1.059096  0.939523 -6.206504  1.253012   \n",
            "4     0.181650 -1.525316  2.335905  0.578476 -0.417798  0.681969 -1.048779   \n",
            "...        ...       ...       ...       ...       ...       ...       ...   \n",
            "1212  0.115283  1.480684  0.036132  0.252878  0.049329  0.537678  0.250896   \n",
            "1213  0.941181  1.528803 -1.156399  1.554010 -0.075675  0.729753  1.142193   \n",
            "1214 -0.762234  1.588181 -0.028590 -0.555628 -0.315562  0.213238 -0.491114   \n",
            "1215  0.166902  1.629782  0.170750  1.050082 -0.201979  0.705453  1.445251   \n",
            "1216 -0.835975  1.603325  0.383793 -1.040983 -0.235315 -1.213681  0.364560   \n",
            "\n",
            "            7         8         9         10        11        12  \n",
            "0     0.135833  0.233292  0.329626  0.345115  0.652891 -0.006913  \n",
            "1    -0.909580  0.233292 -1.221986  0.707287  0.843750 -0.814113  \n",
            "2     0.374384  0.233292  0.598252 -0.191898  0.555039  0.208756  \n",
            "3    -0.537722  0.233292 -0.567479  0.896626  1.082702 -0.719501  \n",
            "4     0.156881  0.233292  0.354121 -0.402387 -1.404271  0.228457  \n",
            "...        ...       ...       ...       ...       ...       ...  \n",
            "1212  0.093736  0.233292  0.280134 -1.142965 -0.491097  0.403063  \n",
            "1213  0.879550  0.233292  1.113556 -1.427815 -1.702917  1.076351  \n",
            "1214 -0.741192  0.233292 -0.903431 -1.563216 -0.567787 -0.235784  \n",
            "1215  0.142849  0.233292  0.337809 -1.851643 -1.402317  0.691448  \n",
            "1216 -0.811354  0.233292 -1.030740  1.532912  1.698309 -0.956020  \n",
            "\n",
            "[1217 rows x 13 columns] \n",
            "\n",
            "0     4.086934e-17\n",
            "1     7.006173e-17\n",
            "2    -8.757717e-17\n",
            "3     1.284465e-16\n",
            "4    -1.080118e-16\n",
            "5     1.495380e-15\n",
            "6     8.757717e-18\n",
            "7     5.838478e-17\n",
            "8    -6.422325e-17\n",
            "9     5.196245e-16\n",
            "10   -5.254630e-16\n",
            "11    1.167696e-17\n",
            "12   -5.838478e-17\n",
            "dtype: float64 0     1.000411\n",
            "1     1.000411\n",
            "2     1.000411\n",
            "3     1.000411\n",
            "4     1.000411\n",
            "5     1.000411\n",
            "6     1.000411\n",
            "7     1.000411\n",
            "8     1.000411\n",
            "9     1.000411\n",
            "10    1.000411\n",
            "11    1.000411\n",
            "12    1.000411\n",
            "dtype: float64\n"
          ]
        }
      ]
    },
    {
      "cell_type": "code",
      "source": [
        "y_cat = utils.to_categorical(y,2)"
      ],
      "metadata": {
        "id": "B4z4_rDLzhZp"
      },
      "execution_count": 9,
      "outputs": []
    },
    {
      "cell_type": "code",
      "source": [
        "x_train,x_test,y_train,y_test= train_test_split(x, y_cat, test_size=0.3, random_state=1234)"
      ],
      "metadata": {
        "id": "5imKNlPErDEl"
      },
      "execution_count": 10,
      "outputs": []
    },
    {
      "cell_type": "code",
      "source": [
        "print(x_train.shape, y_train.shape, x_test.shape, y_test.shape)"
      ],
      "metadata": {
        "colab": {
          "base_uri": "https://localhost:8080/"
        },
        "id": "a2PVxrnOuBAg",
        "outputId": "c0864dae-2906-47ad-cb23-a1f08ffe3395"
      },
      "execution_count": 11,
      "outputs": [
        {
          "output_type": "stream",
          "name": "stdout",
          "text": [
            "(851, 13) (851, 2) (366, 13) (366, 2)\n"
          ]
        }
      ]
    },
    {
      "cell_type": "markdown",
      "source": [
        "1. Train a neural network using train and test records to perform a \n",
        "two-class classification."
      ],
      "metadata": {
        "id": "xEPzboO-zFf-"
      }
    },
    {
      "cell_type": "code",
      "source": [
        "model_1 = Sequential()\n",
        "model_1.add(Dense(units = 11, input_dim=13, activation = 'relu', name = 'h1'))\n",
        "model_1.add(Dense(units = 9, input_dim=13, activation = 'relu', name = 'h2'))\n",
        "model_1.add(Dense(units = 7, activation = 'relu', name = 'h3'))\n",
        "model_1.add(Dense(units = 5, activation = 'relu', name = 'h4'))\n",
        "model_1.add(Dense(units = 2, activation = 'softmax')) "
      ],
      "metadata": {
        "id": "VXHEwwWduB3k"
      },
      "execution_count": 12,
      "outputs": []
    },
    {
      "cell_type": "code",
      "source": [
        "sgd = SGD(lr = 0.1, momentum= 0.9, decay = 0.1)\n",
        "model_1.compile(loss='binary_crossentropy', optimizer = sgd, metrics=['accuracy']) \n",
        "model_1.fit(x, y_cat, epochs=100, validation_data=(x_test,y_test), batch_size=4, verbose=1) "
      ],
      "metadata": {
        "colab": {
          "base_uri": "https://localhost:8080/"
        },
        "id": "gQdKbC4VzvVX",
        "outputId": "7f4efc3a-b9bb-428b-aeab-4218b8787a34"
      },
      "execution_count": 13,
      "outputs": [
        {
          "output_type": "stream",
          "name": "stderr",
          "text": [
            "/usr/local/lib/python3.7/dist-packages/keras/optimizer_v2/gradient_descent.py:102: UserWarning: The `lr` argument is deprecated, use `learning_rate` instead.\n",
            "  super(SGD, self).__init__(name, **kwargs)\n"
          ]
        },
        {
          "output_type": "stream",
          "name": "stdout",
          "text": [
            "Epoch 1/100\n",
            "305/305 [==============================] - 3s 5ms/step - loss: 0.2576 - accuracy: 0.8694 - val_loss: 0.2082 - val_accuracy: 0.9126\n",
            "Epoch 2/100\n",
            "305/305 [==============================] - 1s 4ms/step - loss: 0.2050 - accuracy: 0.9195 - val_loss: 0.1856 - val_accuracy: 0.9235\n",
            "Epoch 3/100\n",
            "305/305 [==============================] - 1s 4ms/step - loss: 0.1959 - accuracy: 0.9252 - val_loss: 0.1800 - val_accuracy: 0.9235\n",
            "Epoch 4/100\n",
            "305/305 [==============================] - 1s 4ms/step - loss: 0.1908 - accuracy: 0.9211 - val_loss: 0.1812 - val_accuracy: 0.9180\n",
            "Epoch 5/100\n",
            "305/305 [==============================] - 1s 4ms/step - loss: 0.1879 - accuracy: 0.9219 - val_loss: 0.1756 - val_accuracy: 0.9262\n",
            "Epoch 6/100\n",
            "305/305 [==============================] - 1s 4ms/step - loss: 0.1853 - accuracy: 0.9285 - val_loss: 0.1762 - val_accuracy: 0.9208\n",
            "Epoch 7/100\n",
            "305/305 [==============================] - 1s 4ms/step - loss: 0.1836 - accuracy: 0.9269 - val_loss: 0.1737 - val_accuracy: 0.9208\n",
            "Epoch 8/100\n",
            "305/305 [==============================] - 1s 4ms/step - loss: 0.1820 - accuracy: 0.9260 - val_loss: 0.1720 - val_accuracy: 0.9208\n",
            "Epoch 9/100\n",
            "305/305 [==============================] - 1s 5ms/step - loss: 0.1805 - accuracy: 0.9269 - val_loss: 0.1717 - val_accuracy: 0.9235\n",
            "Epoch 10/100\n",
            "305/305 [==============================] - 1s 5ms/step - loss: 0.1796 - accuracy: 0.9260 - val_loss: 0.1700 - val_accuracy: 0.9208\n",
            "Epoch 11/100\n",
            "305/305 [==============================] - 1s 3ms/step - loss: 0.1786 - accuracy: 0.9310 - val_loss: 0.1711 - val_accuracy: 0.9235\n",
            "Epoch 12/100\n",
            "305/305 [==============================] - 1s 3ms/step - loss: 0.1777 - accuracy: 0.9285 - val_loss: 0.1685 - val_accuracy: 0.9208\n",
            "Epoch 13/100\n",
            "305/305 [==============================] - 2s 6ms/step - loss: 0.1768 - accuracy: 0.9293 - val_loss: 0.1681 - val_accuracy: 0.9235\n",
            "Epoch 14/100\n",
            "305/305 [==============================] - 1s 4ms/step - loss: 0.1762 - accuracy: 0.9293 - val_loss: 0.1674 - val_accuracy: 0.9262\n",
            "Epoch 15/100\n",
            "305/305 [==============================] - 1s 5ms/step - loss: 0.1755 - accuracy: 0.9293 - val_loss: 0.1666 - val_accuracy: 0.9262\n",
            "Epoch 16/100\n",
            "305/305 [==============================] - 1s 2ms/step - loss: 0.1750 - accuracy: 0.9334 - val_loss: 0.1672 - val_accuracy: 0.9235\n",
            "Epoch 17/100\n",
            "305/305 [==============================] - 1s 2ms/step - loss: 0.1745 - accuracy: 0.9302 - val_loss: 0.1668 - val_accuracy: 0.9235\n",
            "Epoch 18/100\n",
            "305/305 [==============================] - 1s 2ms/step - loss: 0.1739 - accuracy: 0.9285 - val_loss: 0.1668 - val_accuracy: 0.9235\n",
            "Epoch 19/100\n",
            "305/305 [==============================] - 1s 2ms/step - loss: 0.1736 - accuracy: 0.9285 - val_loss: 0.1662 - val_accuracy: 0.9235\n",
            "Epoch 20/100\n",
            "305/305 [==============================] - 1s 2ms/step - loss: 0.1732 - accuracy: 0.9293 - val_loss: 0.1657 - val_accuracy: 0.9235\n",
            "Epoch 21/100\n",
            "305/305 [==============================] - 1s 2ms/step - loss: 0.1727 - accuracy: 0.9293 - val_loss: 0.1651 - val_accuracy: 0.9262\n",
            "Epoch 22/100\n",
            "305/305 [==============================] - 1s 2ms/step - loss: 0.1724 - accuracy: 0.9302 - val_loss: 0.1648 - val_accuracy: 0.9262\n",
            "Epoch 23/100\n",
            "305/305 [==============================] - 1s 2ms/step - loss: 0.1721 - accuracy: 0.9302 - val_loss: 0.1647 - val_accuracy: 0.9290\n",
            "Epoch 24/100\n",
            "305/305 [==============================] - 1s 2ms/step - loss: 0.1716 - accuracy: 0.9310 - val_loss: 0.1642 - val_accuracy: 0.9290\n",
            "Epoch 25/100\n",
            "305/305 [==============================] - 1s 2ms/step - loss: 0.1714 - accuracy: 0.9310 - val_loss: 0.1642 - val_accuracy: 0.9290\n",
            "Epoch 26/100\n",
            "305/305 [==============================] - 1s 2ms/step - loss: 0.1711 - accuracy: 0.9326 - val_loss: 0.1642 - val_accuracy: 0.9290\n",
            "Epoch 27/100\n",
            "305/305 [==============================] - 1s 2ms/step - loss: 0.1708 - accuracy: 0.9318 - val_loss: 0.1638 - val_accuracy: 0.9290\n",
            "Epoch 28/100\n",
            "305/305 [==============================] - 1s 2ms/step - loss: 0.1705 - accuracy: 0.9318 - val_loss: 0.1638 - val_accuracy: 0.9262\n",
            "Epoch 29/100\n",
            "305/305 [==============================] - 1s 2ms/step - loss: 0.1703 - accuracy: 0.9310 - val_loss: 0.1636 - val_accuracy: 0.9262\n",
            "Epoch 30/100\n",
            "305/305 [==============================] - 1s 2ms/step - loss: 0.1702 - accuracy: 0.9318 - val_loss: 0.1633 - val_accuracy: 0.9262\n",
            "Epoch 31/100\n",
            "305/305 [==============================] - 1s 2ms/step - loss: 0.1699 - accuracy: 0.9310 - val_loss: 0.1635 - val_accuracy: 0.9262\n",
            "Epoch 32/100\n",
            "305/305 [==============================] - 1s 2ms/step - loss: 0.1697 - accuracy: 0.9302 - val_loss: 0.1631 - val_accuracy: 0.9262\n",
            "Epoch 33/100\n",
            "305/305 [==============================] - 1s 2ms/step - loss: 0.1695 - accuracy: 0.9310 - val_loss: 0.1628 - val_accuracy: 0.9262\n",
            "Epoch 34/100\n",
            "305/305 [==============================] - 1s 2ms/step - loss: 0.1693 - accuracy: 0.9318 - val_loss: 0.1630 - val_accuracy: 0.9262\n",
            "Epoch 35/100\n",
            "305/305 [==============================] - 1s 2ms/step - loss: 0.1690 - accuracy: 0.9285 - val_loss: 0.1625 - val_accuracy: 0.9262\n",
            "Epoch 36/100\n",
            "305/305 [==============================] - 1s 2ms/step - loss: 0.1690 - accuracy: 0.9318 - val_loss: 0.1625 - val_accuracy: 0.9262\n",
            "Epoch 37/100\n",
            "305/305 [==============================] - 1s 2ms/step - loss: 0.1687 - accuracy: 0.9318 - val_loss: 0.1622 - val_accuracy: 0.9262\n",
            "Epoch 38/100\n",
            "305/305 [==============================] - 1s 2ms/step - loss: 0.1686 - accuracy: 0.9318 - val_loss: 0.1622 - val_accuracy: 0.9262\n",
            "Epoch 39/100\n",
            "305/305 [==============================] - 1s 2ms/step - loss: 0.1684 - accuracy: 0.9318 - val_loss: 0.1621 - val_accuracy: 0.9262\n",
            "Epoch 40/100\n",
            "305/305 [==============================] - 1s 2ms/step - loss: 0.1683 - accuracy: 0.9318 - val_loss: 0.1620 - val_accuracy: 0.9262\n",
            "Epoch 41/100\n",
            "305/305 [==============================] - 1s 2ms/step - loss: 0.1682 - accuracy: 0.9318 - val_loss: 0.1619 - val_accuracy: 0.9262\n",
            "Epoch 42/100\n",
            "305/305 [==============================] - 1s 2ms/step - loss: 0.1680 - accuracy: 0.9318 - val_loss: 0.1621 - val_accuracy: 0.9262\n",
            "Epoch 43/100\n",
            "305/305 [==============================] - 1s 2ms/step - loss: 0.1679 - accuracy: 0.9318 - val_loss: 0.1618 - val_accuracy: 0.9262\n",
            "Epoch 44/100\n",
            "305/305 [==============================] - 1s 2ms/step - loss: 0.1678 - accuracy: 0.9318 - val_loss: 0.1618 - val_accuracy: 0.9262\n",
            "Epoch 45/100\n",
            "305/305 [==============================] - 1s 2ms/step - loss: 0.1676 - accuracy: 0.9318 - val_loss: 0.1617 - val_accuracy: 0.9262\n",
            "Epoch 46/100\n",
            "305/305 [==============================] - 1s 2ms/step - loss: 0.1675 - accuracy: 0.9310 - val_loss: 0.1616 - val_accuracy: 0.9262\n",
            "Epoch 47/100\n",
            "305/305 [==============================] - 1s 2ms/step - loss: 0.1674 - accuracy: 0.9310 - val_loss: 0.1618 - val_accuracy: 0.9262\n",
            "Epoch 48/100\n",
            "305/305 [==============================] - 1s 2ms/step - loss: 0.1673 - accuracy: 0.9310 - val_loss: 0.1617 - val_accuracy: 0.9262\n",
            "Epoch 49/100\n",
            "305/305 [==============================] - 1s 2ms/step - loss: 0.1672 - accuracy: 0.9310 - val_loss: 0.1614 - val_accuracy: 0.9262\n",
            "Epoch 50/100\n",
            "305/305 [==============================] - 1s 2ms/step - loss: 0.1670 - accuracy: 0.9318 - val_loss: 0.1613 - val_accuracy: 0.9262\n",
            "Epoch 51/100\n",
            "305/305 [==============================] - 1s 2ms/step - loss: 0.1670 - accuracy: 0.9318 - val_loss: 0.1610 - val_accuracy: 0.9262\n",
            "Epoch 52/100\n",
            "305/305 [==============================] - 1s 2ms/step - loss: 0.1668 - accuracy: 0.9318 - val_loss: 0.1610 - val_accuracy: 0.9262\n",
            "Epoch 53/100\n",
            "305/305 [==============================] - 1s 2ms/step - loss: 0.1668 - accuracy: 0.9318 - val_loss: 0.1609 - val_accuracy: 0.9262\n",
            "Epoch 54/100\n",
            "305/305 [==============================] - 1s 2ms/step - loss: 0.1666 - accuracy: 0.9318 - val_loss: 0.1609 - val_accuracy: 0.9262\n",
            "Epoch 55/100\n",
            "305/305 [==============================] - 1s 2ms/step - loss: 0.1666 - accuracy: 0.9318 - val_loss: 0.1608 - val_accuracy: 0.9262\n",
            "Epoch 56/100\n",
            "305/305 [==============================] - 1s 2ms/step - loss: 0.1665 - accuracy: 0.9318 - val_loss: 0.1608 - val_accuracy: 0.9262\n",
            "Epoch 57/100\n",
            "305/305 [==============================] - 1s 2ms/step - loss: 0.1664 - accuracy: 0.9318 - val_loss: 0.1607 - val_accuracy: 0.9262\n",
            "Epoch 58/100\n",
            "305/305 [==============================] - 1s 2ms/step - loss: 0.1663 - accuracy: 0.9318 - val_loss: 0.1606 - val_accuracy: 0.9262\n",
            "Epoch 59/100\n",
            "305/305 [==============================] - 1s 2ms/step - loss: 0.1662 - accuracy: 0.9318 - val_loss: 0.1606 - val_accuracy: 0.9262\n",
            "Epoch 60/100\n",
            "305/305 [==============================] - 1s 2ms/step - loss: 0.1661 - accuracy: 0.9318 - val_loss: 0.1605 - val_accuracy: 0.9262\n",
            "Epoch 61/100\n",
            "305/305 [==============================] - 1s 2ms/step - loss: 0.1660 - accuracy: 0.9318 - val_loss: 0.1605 - val_accuracy: 0.9262\n",
            "Epoch 62/100\n",
            "305/305 [==============================] - 1s 2ms/step - loss: 0.1659 - accuracy: 0.9318 - val_loss: 0.1605 - val_accuracy: 0.9262\n",
            "Epoch 63/100\n",
            "305/305 [==============================] - 1s 2ms/step - loss: 0.1659 - accuracy: 0.9318 - val_loss: 0.1605 - val_accuracy: 0.9262\n",
            "Epoch 64/100\n",
            "305/305 [==============================] - 1s 2ms/step - loss: 0.1658 - accuracy: 0.9310 - val_loss: 0.1605 - val_accuracy: 0.9262\n",
            "Epoch 65/100\n",
            "305/305 [==============================] - 1s 2ms/step - loss: 0.1657 - accuracy: 0.9318 - val_loss: 0.1603 - val_accuracy: 0.9262\n",
            "Epoch 66/100\n",
            "305/305 [==============================] - 1s 2ms/step - loss: 0.1657 - accuracy: 0.9318 - val_loss: 0.1603 - val_accuracy: 0.9262\n",
            "Epoch 67/100\n",
            "305/305 [==============================] - 1s 2ms/step - loss: 0.1655 - accuracy: 0.9318 - val_loss: 0.1603 - val_accuracy: 0.9262\n",
            "Epoch 68/100\n",
            "305/305 [==============================] - 1s 2ms/step - loss: 0.1655 - accuracy: 0.9310 - val_loss: 0.1602 - val_accuracy: 0.9262\n",
            "Epoch 69/100\n",
            "305/305 [==============================] - 1s 2ms/step - loss: 0.1654 - accuracy: 0.9318 - val_loss: 0.1601 - val_accuracy: 0.9262\n",
            "Epoch 70/100\n",
            "305/305 [==============================] - 1s 2ms/step - loss: 0.1654 - accuracy: 0.9318 - val_loss: 0.1599 - val_accuracy: 0.9262\n",
            "Epoch 71/100\n",
            "305/305 [==============================] - 1s 2ms/step - loss: 0.1653 - accuracy: 0.9318 - val_loss: 0.1601 - val_accuracy: 0.9262\n",
            "Epoch 72/100\n",
            "305/305 [==============================] - 1s 2ms/step - loss: 0.1652 - accuracy: 0.9318 - val_loss: 0.1598 - val_accuracy: 0.9262\n",
            "Epoch 73/100\n",
            "305/305 [==============================] - 1s 2ms/step - loss: 0.1652 - accuracy: 0.9310 - val_loss: 0.1599 - val_accuracy: 0.9262\n",
            "Epoch 74/100\n",
            "305/305 [==============================] - 1s 2ms/step - loss: 0.1651 - accuracy: 0.9310 - val_loss: 0.1599 - val_accuracy: 0.9262\n",
            "Epoch 75/100\n",
            "305/305 [==============================] - 1s 2ms/step - loss: 0.1650 - accuracy: 0.9310 - val_loss: 0.1598 - val_accuracy: 0.9262\n",
            "Epoch 76/100\n",
            "305/305 [==============================] - 1s 2ms/step - loss: 0.1650 - accuracy: 0.9318 - val_loss: 0.1596 - val_accuracy: 0.9262\n",
            "Epoch 77/100\n",
            "305/305 [==============================] - 1s 2ms/step - loss: 0.1649 - accuracy: 0.9302 - val_loss: 0.1596 - val_accuracy: 0.9262\n",
            "Epoch 78/100\n",
            "305/305 [==============================] - 1s 2ms/step - loss: 0.1649 - accuracy: 0.9310 - val_loss: 0.1597 - val_accuracy: 0.9262\n",
            "Epoch 79/100\n",
            "305/305 [==============================] - 1s 2ms/step - loss: 0.1648 - accuracy: 0.9318 - val_loss: 0.1596 - val_accuracy: 0.9262\n",
            "Epoch 80/100\n",
            "305/305 [==============================] - 1s 2ms/step - loss: 0.1647 - accuracy: 0.9310 - val_loss: 0.1595 - val_accuracy: 0.9262\n",
            "Epoch 81/100\n",
            "305/305 [==============================] - 1s 2ms/step - loss: 0.1647 - accuracy: 0.9318 - val_loss: 0.1594 - val_accuracy: 0.9262\n",
            "Epoch 82/100\n",
            "305/305 [==============================] - 1s 2ms/step - loss: 0.1646 - accuracy: 0.9310 - val_loss: 0.1594 - val_accuracy: 0.9262\n",
            "Epoch 83/100\n",
            "305/305 [==============================] - 1s 2ms/step - loss: 0.1646 - accuracy: 0.9318 - val_loss: 0.1593 - val_accuracy: 0.9262\n",
            "Epoch 84/100\n",
            "305/305 [==============================] - 1s 2ms/step - loss: 0.1645 - accuracy: 0.9318 - val_loss: 0.1594 - val_accuracy: 0.9262\n",
            "Epoch 85/100\n",
            "305/305 [==============================] - 1s 2ms/step - loss: 0.1645 - accuracy: 0.9310 - val_loss: 0.1593 - val_accuracy: 0.9262\n",
            "Epoch 86/100\n",
            "305/305 [==============================] - 1s 2ms/step - loss: 0.1644 - accuracy: 0.9310 - val_loss: 0.1593 - val_accuracy: 0.9262\n",
            "Epoch 87/100\n",
            "305/305 [==============================] - 1s 2ms/step - loss: 0.1644 - accuracy: 0.9310 - val_loss: 0.1593 - val_accuracy: 0.9262\n",
            "Epoch 88/100\n",
            "305/305 [==============================] - 1s 2ms/step - loss: 0.1643 - accuracy: 0.9310 - val_loss: 0.1592 - val_accuracy: 0.9262\n",
            "Epoch 89/100\n",
            "305/305 [==============================] - 1s 2ms/step - loss: 0.1643 - accuracy: 0.9310 - val_loss: 0.1592 - val_accuracy: 0.9262\n",
            "Epoch 90/100\n",
            "305/305 [==============================] - 1s 2ms/step - loss: 0.1643 - accuracy: 0.9318 - val_loss: 0.1591 - val_accuracy: 0.9262\n",
            "Epoch 91/100\n",
            "305/305 [==============================] - 1s 2ms/step - loss: 0.1642 - accuracy: 0.9310 - val_loss: 0.1592 - val_accuracy: 0.9262\n",
            "Epoch 92/100\n",
            "305/305 [==============================] - 1s 2ms/step - loss: 0.1641 - accuracy: 0.9310 - val_loss: 0.1590 - val_accuracy: 0.9262\n",
            "Epoch 93/100\n",
            "305/305 [==============================] - 1s 2ms/step - loss: 0.1641 - accuracy: 0.9302 - val_loss: 0.1591 - val_accuracy: 0.9262\n",
            "Epoch 94/100\n",
            "305/305 [==============================] - 1s 2ms/step - loss: 0.1640 - accuracy: 0.9310 - val_loss: 0.1589 - val_accuracy: 0.9262\n",
            "Epoch 95/100\n",
            "305/305 [==============================] - 1s 2ms/step - loss: 0.1640 - accuracy: 0.9310 - val_loss: 0.1589 - val_accuracy: 0.9262\n",
            "Epoch 96/100\n",
            "305/305 [==============================] - 1s 2ms/step - loss: 0.1640 - accuracy: 0.9318 - val_loss: 0.1590 - val_accuracy: 0.9262\n",
            "Epoch 97/100\n",
            "305/305 [==============================] - 1s 2ms/step - loss: 0.1639 - accuracy: 0.9310 - val_loss: 0.1590 - val_accuracy: 0.9262\n",
            "Epoch 98/100\n",
            "305/305 [==============================] - 1s 2ms/step - loss: 0.1638 - accuracy: 0.9310 - val_loss: 0.1589 - val_accuracy: 0.9262\n",
            "Epoch 99/100\n",
            "305/305 [==============================] - 1s 2ms/step - loss: 0.1638 - accuracy: 0.9318 - val_loss: 0.1589 - val_accuracy: 0.9262\n",
            "Epoch 100/100\n",
            "305/305 [==============================] - 1s 2ms/step - loss: 0.1638 - accuracy: 0.9310 - val_loss: 0.1589 - val_accuracy: 0.9262\n"
          ]
        },
        {
          "output_type": "execute_result",
          "data": {
            "text/plain": [
              "<keras.callbacks.History at 0x7fa239e137d0>"
            ]
          },
          "metadata": {},
          "execution_count": 13
        }
      ]
    },
    {
      "cell_type": "markdown",
      "source": [
        "1. Print the configurations (architecture) of all the layers in your neural network"
      ],
      "metadata": {
        "id": "KbwMP_9fzWQU"
      }
    },
    {
      "cell_type": "code",
      "source": [
        "model_1.summary()"
      ],
      "metadata": {
        "colab": {
          "base_uri": "https://localhost:8080/"
        },
        "id": "My3NXjRCzVCd",
        "outputId": "7caddb9e-2466-4150-f7fb-d521e614bb72"
      },
      "execution_count": 14,
      "outputs": [
        {
          "output_type": "stream",
          "name": "stdout",
          "text": [
            "Model: \"sequential\"\n",
            "_________________________________________________________________\n",
            " Layer (type)                Output Shape              Param #   \n",
            "=================================================================\n",
            " h1 (Dense)                  (None, 11)                154       \n",
            "                                                                 \n",
            " h2 (Dense)                  (None, 9)                 108       \n",
            "                                                                 \n",
            " h3 (Dense)                  (None, 7)                 70        \n",
            "                                                                 \n",
            " h4 (Dense)                  (None, 5)                 40        \n",
            "                                                                 \n",
            " dense (Dense)               (None, 2)                 12        \n",
            "                                                                 \n",
            "=================================================================\n",
            "Total params: 384\n",
            "Trainable params: 384\n",
            "Non-trainable params: 0\n",
            "_________________________________________________________________\n"
          ]
        }
      ]
    },
    {
      "cell_type": "code",
      "source": [
        "history = model_1.fit(x, y_cat, epochs=75, validation_data=(x_test,y_test), batch_size=4, verbose=0) \n",
        "plt.plot(history.history['accuracy'])\n",
        "plt.plot(history.history['val_accuracy'])\n",
        "plt.title('model accuracy') \n",
        "plt.ylabel('accuracy') \n",
        "plt.xlabel('epoch')\n",
        "plt.legend(['train', 'test'], loc='upper left')\n",
        "plt.show()\n",
        "# summarize history for loss \n",
        "plt.plot(history.history['loss'])\n",
        "plt.plot(history.history['val_loss'])\n",
        "plt.title('model loss')\n",
        "plt.ylabel('loss')\n",
        "plt.legend(['train', 'test'], loc='upper left')\n",
        "plt.xlabel('epoch')\n",
        "plt.show()"
      ],
      "metadata": {
        "colab": {
          "base_uri": "https://localhost:8080/",
          "height": 573
        },
        "id": "ouGCO13WseQf",
        "outputId": "b70ca5b3-44e5-4b91-f8a8-49b29ced1ba7"
      },
      "execution_count": 15,
      "outputs": [
        {
          "output_type": "display_data",
          "data": {
            "text/plain": [
              "<Figure size 432x288 with 1 Axes>"
            ],
            "image/png": "[encoded data removed]"
          },
          "metadata": {
            "needs_background": "light"
          }
        },
        {
          "output_type": "display_data",
          "data": {
            "text/plain": [
              "<Figure size 432x288 with 1 Axes>"
            ],
            "image/png": "[encoded data removed]"
          },
          "metadata": {
            "needs_background": "light"
          }
        }
      ]
    },
    {
      "cell_type": "markdown",
      "source": [
        "2a. Print the confusion matrix of your classification result, and what is the accuracy of classification result. This is based on **test** data."
      ],
      "metadata": {
        "id": "wHEhyHMez0nr"
      }
    },
    {
      "cell_type": "code",
      "source": [
        "from sklearn.metrics import confusion_matrix"
      ],
      "metadata": {
        "id": "VWLiDrIXOaLj"
      },
      "execution_count": 16,
      "outputs": []
    },
    {
      "cell_type": "code",
      "source": [
        "y_pred_prob = model_1.predict(x_test)\n",
        "y_pred_class = np.argmax(y_pred_prob, axis = 1) \n",
        "y_test2 = np.argmax(y_test, axis=1)\n",
        "print('Confusion Matrix \\n', confusion_matrix(y_test2, y_pred_class))"
      ],
      "metadata": {
        "colab": {
          "base_uri": "https://localhost:8080/"
        },
        "id": "wm1Xg2liOhQ3",
        "outputId": "32e797e3-2b5a-4919-afd4-1530cee33922"
      },
      "execution_count": 17,
      "outputs": [
        {
          "output_type": "stream",
          "name": "stdout",
          "text": [
            "Confusion Matrix \n",
            " [[298  19]\n",
            " [  6  43]]\n"
          ]
        }
      ]
    },
    {
      "cell_type": "markdown",
      "source": [
        "2b. Obtain overall accuracy score. This is based on **test** data"
      ],
      "metadata": {
        "id": "RdT7reJ_zPTN"
      }
    },
    {
      "cell_type": "code",
      "source": [
        "accuracy_score = model_1.evaluate(x, y_cat)"
      ],
      "metadata": {
        "colab": {
          "base_uri": "https://localhost:8080/"
        },
        "id": "pJ8rnEMaZJ9-",
        "outputId": "6b257393-ad08-4336-a319-24f5e424f0ce"
      },
      "execution_count": 18,
      "outputs": [
        {
          "output_type": "stream",
          "name": "stdout",
          "text": [
            "39/39 [==============================] - 0s 2ms/step - loss: 0.1616 - accuracy: 0.9318\n"
          ]
        }
      ]
    },
    {
      "cell_type": "markdown",
      "source": [
        "3a. Print the precision, recall, F-score for EACH class. This is based on **test** data."
      ],
      "metadata": {
        "id": "ze8nrXvUQJD2"
      }
    },
    {
      "cell_type": "code",
      "source": [
        "print('Classification Report \\n',classification_report(y_test2,y_pred_class))"
      ],
      "metadata": {
        "colab": {
          "base_uri": "https://localhost:8080/"
        },
        "id": "NMr9_PWGQH3R",
        "outputId": "788d1b9f-37e0-4bc1-8edc-9c0e490f8ebb"
      },
      "execution_count": 19,
      "outputs": [
        {
          "output_type": "stream",
          "name": "stdout",
          "text": [
            "Classification Report \n",
            "               precision    recall  f1-score   support\n",
            "\n",
            "           0       0.98      0.94      0.96       317\n",
            "           1       0.69      0.88      0.77        49\n",
            "\n",
            "    accuracy                           0.93       366\n",
            "   macro avg       0.84      0.91      0.87       366\n",
            "weighted avg       0.94      0.93      0.93       366\n",
            "\n"
          ]
        }
      ]
    },
    {
      "cell_type": "markdown",
      "source": [
        "Print history plot"
      ],
      "metadata": {
        "id": "T4D9DWJ0s1dp"
      }
    },
    {
      "cell_type": "markdown",
      "source": [
        "3b. Also, create a ROC curve for EACH class."
      ],
      "metadata": {
        "id": "LoCl8V1gy-Nf"
      }
    },
    {
      "cell_type": "code",
      "source": [
        "from sklearn.metrics import roc_curve, roc_auc_score, precision_recall_curve, confusion_matrix, auc, accuracy_score\n",
        "\n",
        "y_score = y_pred_prob\n",
        "\n",
        "n_classes = 2\n",
        "fpr = dict()\n",
        "tpr = dict()\n",
        "roc_auc = dict()\n",
        "for cur_class in range(n_classes):\n",
        "    fpr[cur_class], tpr[cur_class], _ = roc_curve(y_test[:, cur_class], y_score[:, cur_class ])  #, pos_label= 1)\n",
        "    roc_auc[cur_class] = auc(fpr[cur_class], tpr[cur_class])\n",
        "    print(roc_auc[cur_class])\n",
        "    plt.plot(fpr[cur_class],tpr[cur_class], marker='.', label='Class_0', color='b')"
      ],
      "metadata": {
        "colab": {
          "base_uri": "https://localhost:8080/",
          "height": 300
        },
        "id": "oSVBHGwrtH1a",
        "outputId": "a4f59bfd-8404-4aa6-e21d-35550042d772"
      },
      "execution_count": 20,
      "outputs": [
        {
          "output_type": "stream",
          "name": "stdout",
          "text": [
            "0.9614369407068821\n",
            "0.9614369407068821\n"
          ]
        },
        {
          "output_type": "display_data",
          "data": {
            "text/plain": [
              "<Figure size 432x288 with 1 Axes>"
            ],
            "image/png": "[encoded data removed]"
          },
          "metadata": {
            "needs_background": "light"
          }
        }
      ]
    },
    {
      "cell_type": "code",
      "source": [
        "import matplotlib.pyplot as plt\n",
        "from sklearn.metrics import roc_curve, auc\n",
        "\n",
        "plt.figure()\n",
        "lw = 2\n",
        "plt.plot(fpr[0], tpr[0], color='darkorange',\n",
        "         lw=lw, label='ROC curve (area = %0.2f)' % roc_auc[0])\n",
        "plt.plot(fpr[1], tpr[1], color='red',\n",
        "         lw=3, label='ROC curve (area = %0.2f)' % roc_auc[1])\n",
        "plt.plot([0, 1], [0, 1], color='navy', lw=lw, linestyle='--')\n",
        "plt.xlim([0.0, 1.0]); plt.ylim([0.0, 1.05])\n",
        "plt.xlabel('False Positive Rate')\n",
        "plt.ylabel('True Positive Rate')\n",
        "plt.title('Receiver operating characteristic example')\n",
        "plt.legend(loc=\"lower right\")\n",
        "plt.show()"
      ],
      "metadata": {
        "colab": {
          "base_uri": "https://localhost:8080/",
          "height": 295
        },
        "id": "qzqMivyD1eV9",
        "outputId": "336c37b0-3f82-4be9-9626-cf1c3a125f9a"
      },
      "execution_count": 21,
      "outputs": [
        {
          "output_type": "display_data",
          "data": {
            "text/plain": [
              "<Figure size 432x288 with 1 Axes>"
            ],
            "image/png": "[encoded data removed]"
          },
          "metadata": {
            "needs_background": "light"
          }
        }
      ]
    },
    {
      "cell_type": "markdown",
      "source": [
        "Review Z-code (for fun)"
      ],
      "metadata": {
        "id": "GEPodiyHSi7M"
      }
    },
    {
      "cell_type": "code",
      "source": [
        "model_2 = Model(inputs=model_1.input,\n",
        "                outputs = model_1.get_layer('h4').output)\n",
        "Z_code = model_2.predict(x)"
      ],
      "metadata": {
        "id": "R9d3ez13Nh_-"
      },
      "execution_count": 22,
      "outputs": []
    },
    {
      "cell_type": "code",
      "source": [
        "tsne = TSNE(n_components=2, random_state=0)  \n",
        "tsne_z = tsne.fit_transform(Z_code)"
      ],
      "metadata": {
        "colab": {
          "base_uri": "https://localhost:8080/"
        },
        "id": "-Xp5IFLKR-qu",
        "outputId": "664875d6-44b6-4d1a-818d-b9d77d413968"
      },
      "execution_count": 23,
      "outputs": [
        {
          "output_type": "stream",
          "name": "stderr",
          "text": [
            "/usr/local/lib/python3.7/dist-packages/sklearn/manifold/_t_sne.py:783: FutureWarning: The default initialization in TSNE will change from 'random' to 'pca' in 1.2.\n",
            "  FutureWarning,\n",
            "/usr/local/lib/python3.7/dist-packages/sklearn/manifold/_t_sne.py:793: FutureWarning: The default learning rate in TSNE will change from 200.0 to 'auto' in 1.2.\n",
            "  FutureWarning,\n"
          ]
        }
      ]
    },
    {
      "cell_type": "code",
      "source": [
        "tsne_x = tsne.fit_transform(x)"
      ],
      "metadata": {
        "colab": {
          "base_uri": "https://localhost:8080/"
        },
        "id": "XjXYnDsYSToj",
        "outputId": "e1fc20f8-1fc1-454f-fbd0-3c26625a213f"
      },
      "execution_count": 24,
      "outputs": [
        {
          "output_type": "stream",
          "name": "stderr",
          "text": [
            "/usr/local/lib/python3.7/dist-packages/sklearn/manifold/_t_sne.py:783: FutureWarning: The default initialization in TSNE will change from 'random' to 'pca' in 1.2.\n",
            "  FutureWarning,\n",
            "/usr/local/lib/python3.7/dist-packages/sklearn/manifold/_t_sne.py:793: FutureWarning: The default learning rate in TSNE will change from 200.0 to 'auto' in 1.2.\n",
            "  FutureWarning,\n"
          ]
        }
      ]
    },
    {
      "cell_type": "code",
      "source": [
        "x1,y1=tsne_z[:,0],tsne_z[:,1] \n",
        "x2,y2=tsne_x[:,0],tsne_x[:,1]\n",
        "f, axes = plt.subplots(1, 2, figsize=(12,4))\n",
        "palette = sns.color_palette(\"bright\", 2) \n",
        "sns.scatterplot(x1, y1, palette=palette, hue = y, legend='full',ax=axes[1]).set(title = 'tsne Z-code') \n",
        "sns.scatterplot(x2, y2, palette=palette, hue = y, legend='full',ax=axes[0]).set(title = 'tsne x')"
      ],
      "metadata": {
        "colab": {
          "base_uri": "https://localhost:8080/",
          "height": 388
        },
        "id": "V9NwM2zeS2qa",
        "outputId": "459d247a-c214-440b-e2d9-53290451ae59"
      },
      "execution_count": 25,
      "outputs": [
        {
          "output_type": "stream",
          "name": "stderr",
          "text": [
            "/usr/local/lib/python3.7/dist-packages/seaborn/_decorators.py:43: FutureWarning: Pass the following variables as keyword args: x, y. From version 0.12, the only valid positional argument will be `data`, and passing other arguments without an explicit keyword will result in an error or misinterpretation.\n",
            "  FutureWarning\n",
            "/usr/local/lib/python3.7/dist-packages/seaborn/_decorators.py:43: FutureWarning: Pass the following variables as keyword args: x, y. From version 0.12, the only valid positional argument will be `data`, and passing other arguments without an explicit keyword will result in an error or misinterpretation.\n",
            "  FutureWarning\n"
          ]
        },
        {
          "output_type": "execute_result",
          "data": {
            "text/plain": [
              "[Text(0.5, 1.0, 'tsne x')]"
            ]
          },
          "metadata": {},
          "execution_count": 25
        },
        {
          "output_type": "display_data",
          "data": {
            "text/plain": [
              "<Figure size 864x288 with 2 Axes>"
            ],
            "image/png": "[encoded data removed]"
          },
          "metadata": {
            "needs_background": "light"
          }
        }
      ]
    }
  ]
}